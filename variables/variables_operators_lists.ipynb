{
 "cells": [
  {
   "cell_type": "code",
   "execution_count": null,
   "id": "b7008a26-65a8-4d0b-816a-7a050e486c23",
   "metadata": {},
   "outputs": [],
   "source": [
    "# variables\n",
    "\n",
    "True = 55"
   ]
  },
  {
   "cell_type": "code",
   "execution_count": 31,
   "id": "9847f364-0370-45f4-9b33-99cb66547ebe",
   "metadata": {},
   "outputs": [],
   "source": [
    "my_number = '55'\n"
   ]
  },
  {
   "cell_type": "code",
   "execution_count": null,
   "id": "c28fbd0e-679a-456f-b6cd-2ecf6200e786",
   "metadata": {},
   "outputs": [],
   "source": [
    "type(my_number)"
   ]
  },
  {
   "cell_type": "code",
   "execution_count": null,
   "id": "b6860fb7-7691-4b11-96c4-0def39e9fbc6",
   "metadata": {},
   "outputs": [],
   "source": [
    "my_int_number = int(my_number)"
   ]
  },
  {
   "cell_type": "code",
   "execution_count": null,
   "id": "e9b3b18b-6b55-4268-9db1-51194d1d09c4",
   "metadata": {},
   "outputs": [],
   "source": [
    "type(my_int_number)"
   ]
  },
  {
   "cell_type": "code",
   "execution_count": null,
   "id": "c1f8e60e-4105-4a3f-8e62-d8a7c5203b97",
   "metadata": {},
   "outputs": [],
   "source": [
    "int = 55"
   ]
  },
  {
   "cell_type": "code",
   "execution_count": 2,
   "id": "d5a1e8a1-4eea-4e7d-b3a1-b7af30844394",
   "metadata": {},
   "outputs": [
    {
     "data": {
      "text/plain": [
       "55"
      ]
     },
     "execution_count": 2,
     "metadata": {},
     "output_type": "execute_result"
    }
   ],
   "source": [
    "int(my_number)"
   ]
  },
  {
   "cell_type": "code",
   "execution_count": 3,
   "id": "becd017c-d17b-40a0-afb3-e74fad1d794b",
   "metadata": {},
   "outputs": [],
   "source": [
    "my_list = [1,2,3,4,5,6,7,8]"
   ]
  },
  {
   "cell_type": "code",
   "execution_count": 4,
   "id": "bd8b43f8-b67c-4d45-9876-69afb0e7f81d",
   "metadata": {},
   "outputs": [
    {
     "data": {
      "text/plain": [
       "[1, 2]"
      ]
     },
     "execution_count": 4,
     "metadata": {},
     "output_type": "execute_result"
    }
   ],
   "source": [
    "my_list[0:2]"
   ]
  },
  {
   "cell_type": "code",
   "execution_count": 5,
   "id": "a7b7ec69-680d-4668-8478-ad94185255ce",
   "metadata": {},
   "outputs": [],
   "source": [
    "my_list2  = my_list"
   ]
  },
  {
   "cell_type": "code",
   "execution_count": 6,
   "id": "79c55c4a-c274-4758-845c-d06a3e37eeab",
   "metadata": {},
   "outputs": [],
   "source": [
    "my_list2.append([9,10])"
   ]
  },
  {
   "cell_type": "code",
   "execution_count": 7,
   "id": "5f920487-defc-4596-8d66-1ea29acc82ce",
   "metadata": {},
   "outputs": [
    {
     "data": {
      "text/plain": [
       "[1, 2, 3, 4, 5, 6, 7, 8, [9, 10]]"
      ]
     },
     "execution_count": 7,
     "metadata": {},
     "output_type": "execute_result"
    }
   ],
   "source": [
    "my_list2"
   ]
  },
  {
   "cell_type": "code",
   "execution_count": 8,
   "id": "36b25ecb-1c7c-4431-ae73-18c972f7fbb2",
   "metadata": {},
   "outputs": [
    {
     "data": {
      "text/plain": [
       "[1, 2, 3, 4, 5, 6, 7, 8, [9, 10]]"
      ]
     },
     "execution_count": 8,
     "metadata": {},
     "output_type": "execute_result"
    }
   ],
   "source": [
    "my_list"
   ]
  },
  {
   "cell_type": "code",
   "execution_count": 9,
   "id": "07404b3c-248d-46c8-8496-dfb18301fc2e",
   "metadata": {},
   "outputs": [],
   "source": [
    "my_list3  = my_list.copy()"
   ]
  },
  {
   "cell_type": "code",
   "execution_count": 10,
   "id": "281b16de-d2e6-4572-94b1-695e39376264",
   "metadata": {},
   "outputs": [
    {
     "data": {
      "text/plain": [
       "[9, 10]"
      ]
     },
     "execution_count": 10,
     "metadata": {},
     "output_type": "execute_result"
    }
   ],
   "source": [
    "my_list3.pop()"
   ]
  },
  {
   "cell_type": "code",
   "execution_count": 11,
   "id": "bbf412f2-ce19-4a32-8b4d-bb07d9532a8a",
   "metadata": {},
   "outputs": [
    {
     "data": {
      "text/plain": [
       "[1, 2, 3, 4, 5, 6, 7, 8]"
      ]
     },
     "execution_count": 11,
     "metadata": {},
     "output_type": "execute_result"
    }
   ],
   "source": [
    "my_list3"
   ]
  },
  {
   "cell_type": "code",
   "execution_count": 12,
   "id": "6fe1b7aa-0fc4-438c-9a29-3830f18bc0b3",
   "metadata": {},
   "outputs": [
    {
     "data": {
      "text/plain": [
       "[1, 2, 3, 4, 5, 6, 7, 8, [9, 10]]"
      ]
     },
     "execution_count": 12,
     "metadata": {},
     "output_type": "execute_result"
    }
   ],
   "source": [
    "my_list"
   ]
  },
  {
   "cell_type": "code",
   "execution_count": 13,
   "id": "b6ca1825-f62b-48ad-ac9b-e1ecc8e586cf",
   "metadata": {},
   "outputs": [
    {
     "data": {
      "text/plain": [
       "1759221138560"
      ]
     },
     "execution_count": 13,
     "metadata": {},
     "output_type": "execute_result"
    }
   ],
   "source": [
    "id(my_list)"
   ]
  },
  {
   "cell_type": "code",
   "execution_count": 14,
   "id": "ea64b316-a32a-4d40-b8d7-f4e7a331000d",
   "metadata": {},
   "outputs": [
    {
     "data": {
      "text/plain": [
       "1759221138560"
      ]
     },
     "execution_count": 14,
     "metadata": {},
     "output_type": "execute_result"
    }
   ],
   "source": [
    "id(my_list2)"
   ]
  },
  {
   "cell_type": "code",
   "execution_count": 15,
   "id": "48e695c1-6a73-4500-b046-85c01410450d",
   "metadata": {},
   "outputs": [
    {
     "data": {
      "text/plain": [
       "1759242281728"
      ]
     },
     "execution_count": 15,
     "metadata": {},
     "output_type": "execute_result"
    }
   ],
   "source": [
    "id(my_list3)"
   ]
  },
  {
   "cell_type": "code",
   "execution_count": 16,
   "id": "4dd0df4a-3951-43e3-8555-52537ec3b154",
   "metadata": {},
   "outputs": [
    {
     "data": {
      "text/plain": [
       "['__add__',\n",
       " '__class__',\n",
       " '__class_getitem__',\n",
       " '__contains__',\n",
       " '__delattr__',\n",
       " '__delitem__',\n",
       " '__dir__',\n",
       " '__doc__',\n",
       " '__eq__',\n",
       " '__format__',\n",
       " '__ge__',\n",
       " '__getattribute__',\n",
       " '__getitem__',\n",
       " '__gt__',\n",
       " '__hash__',\n",
       " '__iadd__',\n",
       " '__imul__',\n",
       " '__init__',\n",
       " '__init_subclass__',\n",
       " '__iter__',\n",
       " '__le__',\n",
       " '__len__',\n",
       " '__lt__',\n",
       " '__mul__',\n",
       " '__ne__',\n",
       " '__new__',\n",
       " '__reduce__',\n",
       " '__reduce_ex__',\n",
       " '__repr__',\n",
       " '__reversed__',\n",
       " '__rmul__',\n",
       " '__setattr__',\n",
       " '__setitem__',\n",
       " '__sizeof__',\n",
       " '__str__',\n",
       " '__subclasshook__',\n",
       " 'append',\n",
       " 'clear',\n",
       " 'copy',\n",
       " 'count',\n",
       " 'extend',\n",
       " 'index',\n",
       " 'insert',\n",
       " 'pop',\n",
       " 'remove',\n",
       " 'reverse',\n",
       " 'sort']"
      ]
     },
     "execution_count": 16,
     "metadata": {},
     "output_type": "execute_result"
    }
   ],
   "source": [
    "dir(my_list)"
   ]
  },
  {
   "cell_type": "code",
   "execution_count": 19,
   "id": "a8ff9561-33c1-4ced-8101-334104209569",
   "metadata": {},
   "outputs": [],
   "source": [
    "my_list3.sort()"
   ]
  },
  {
   "cell_type": "code",
   "execution_count": 24,
   "id": "1bc620f1-c99c-4bac-98e4-8634afaeb61b",
   "metadata": {},
   "outputs": [],
   "source": [
    "my_sorted_list  = my_list3.sort(reverse = True)"
   ]
  },
  {
   "cell_type": "code",
   "execution_count": 21,
   "id": "dcac6ecd-4520-410f-8e32-2e53d31377aa",
   "metadata": {},
   "outputs": [],
   "source": [
    "my_sorted_list"
   ]
  },
  {
   "cell_type": "code",
   "execution_count": 22,
   "id": "4d0d1cf4-aff9-4290-9a12-4077538fef77",
   "metadata": {},
   "outputs": [
    {
     "data": {
      "text/plain": [
       "NoneType"
      ]
     },
     "execution_count": 22,
     "metadata": {},
     "output_type": "execute_result"
    }
   ],
   "source": [
    "type(my_sorted_list)"
   ]
  },
  {
   "cell_type": "code",
   "execution_count": 25,
   "id": "be58f634-8911-40ba-95c7-fc6becce4c25",
   "metadata": {},
   "outputs": [
    {
     "data": {
      "text/plain": [
       "[8, 7, 6, 5, 4, 3, 2, 1]"
      ]
     },
     "execution_count": 25,
     "metadata": {},
     "output_type": "execute_result"
    }
   ],
   "source": [
    "my_list3"
   ]
  },
  {
   "cell_type": "code",
   "execution_count": 26,
   "id": "257c7903-10ba-4031-9d4a-cc7b42d30e02",
   "metadata": {},
   "outputs": [
    {
     "data": {
      "text/plain": [
       "[1, 2, 3, 4, 5, 6, 7, 8]"
      ]
     },
     "execution_count": 26,
     "metadata": {},
     "output_type": "execute_result"
    }
   ],
   "source": [
    "sorted(my_list3)"
   ]
  },
  {
   "cell_type": "code",
   "execution_count": 27,
   "id": "73eae552-f5b3-42e9-ba49-6c8a3bd037e7",
   "metadata": {},
   "outputs": [],
   "source": [
    "my_list3.sort(reverse = True)"
   ]
  },
  {
   "cell_type": "code",
   "execution_count": 28,
   "id": "6c3a36ae-d636-4183-86bc-6606a4c80de0",
   "metadata": {},
   "outputs": [],
   "source": [
    "my_sorted_list2= sorted(my_list3)"
   ]
  },
  {
   "cell_type": "code",
   "execution_count": 29,
   "id": "104042b6-cb54-4d8b-80ab-2012d747df08",
   "metadata": {},
   "outputs": [
    {
     "data": {
      "text/plain": [
       "[1, 2, 3, 4, 5, 6, 7, 8]"
      ]
     },
     "execution_count": 29,
     "metadata": {},
     "output_type": "execute_result"
    }
   ],
   "source": [
    "my_sorted_list2"
   ]
  },
  {
   "cell_type": "code",
   "execution_count": 30,
   "id": "c8afe54b-3790-4e3d-b900-e0d12d0dcd84",
   "metadata": {},
   "outputs": [
    {
     "name": "stdout",
     "output_type": "stream",
     "text": [
      "Hello World times 8\n"
     ]
    }
   ],
   "source": [
    "print(\"Hello\", \"World\", \"times\", my_list3[0])"
   ]
  },
  {
   "cell_type": "code",
   "execution_count": 32,
   "id": "c863d38e-a107-4ed1-b1bc-81c7e2f1cef9",
   "metadata": {},
   "outputs": [
    {
     "name": "stdout",
     "output_type": "stream",
     "text": [
      "any string that you want 55\n"
     ]
    }
   ],
   "source": [
    "print(f\"any string that you want {my_number}\")"
   ]
  },
  {
   "cell_type": "markdown",
   "id": "4f1a9997-39d7-47d9-a7d5-175a3e5dadf0",
   "metadata": {},
   "source": [
    "# Class problem. Random Winner"
   ]
  },
  {
   "cell_type": "code",
   "execution_count": 33,
   "id": "871f287f-1cae-4896-8d68-151ce1099c92",
   "metadata": {},
   "outputs": [],
   "source": [
    "# import the random library\n",
    "import random"
   ]
  },
  {
   "cell_type": "code",
   "execution_count": 34,
   "id": "7a607196-e5dc-4ee1-8bc6-6b9e589a755a",
   "metadata": {},
   "outputs": [
    {
     "name": "stdin",
     "output_type": "stream",
     "text": [
      "Enter name: Einstein\n",
      "Enter name: Marie\n",
      "Enter name: Barry\n"
     ]
    }
   ],
   "source": [
    "# make a list of three names\n",
    "# get them from the user\n",
    "\n",
    "name1 = input(\"Enter name:\")\n",
    "name2 = input(\"Enter name:\")\n",
    "name3 = input(\"Enter name:\")\n"
   ]
  },
  {
   "cell_type": "code",
   "execution_count": 36,
   "id": "28f3181a-d578-4047-b728-f59612141445",
   "metadata": {},
   "outputs": [
    {
     "name": "stdout",
     "output_type": "stream",
     "text": [
      "['Einstein', 'Marie', 'Barry']\n"
     ]
    }
   ],
   "source": [
    "# we have the three names\n",
    "# put them in a list\n",
    "\n",
    "name_list = [name1, name2, name3]\n",
    "print(name_list)"
   ]
  },
  {
   "cell_type": "code",
   "execution_count": 48,
   "id": "93fdb5e4-2a78-4aae-9480-8f17e39f2397",
   "metadata": {},
   "outputs": [
    {
     "name": "stdout",
     "output_type": "stream",
     "text": [
      "The winner is Marie\n"
     ]
    }
   ],
   "source": [
    "# select a random winner\n",
    "\n",
    "winner = random.choice(name_list)\n",
    "print(f\"The winner is {winner}\")"
   ]
  },
  {
   "cell_type": "code",
   "execution_count": 59,
   "id": "fca63281-1e35-460d-9c78-94e1ea066121",
   "metadata": {},
   "outputs": [
    {
     "name": "stdin",
     "output_type": "stream",
     "text": [
      "enter 3 names separated by commas Marie,Einstein,Barry\n"
     ]
    }
   ],
   "source": [
    "names_in = input(\"enter 3 names separated by commas\")"
   ]
  },
  {
   "cell_type": "code",
   "execution_count": 60,
   "id": "57a20d06-7ff8-49c2-830b-76414bab64fa",
   "metadata": {},
   "outputs": [
    {
     "data": {
      "text/plain": [
       "'Marie,Einstein,Barry'"
      ]
     },
     "execution_count": 60,
     "metadata": {},
     "output_type": "execute_result"
    }
   ],
   "source": [
    "names_in"
   ]
  },
  {
   "cell_type": "code",
   "execution_count": 61,
   "id": "98d6b729-b974-4949-93c4-772489b7e243",
   "metadata": {},
   "outputs": [],
   "source": [
    "names_list_2 = names_in.split(\",\")"
   ]
  },
  {
   "cell_type": "code",
   "execution_count": 62,
   "id": "db00b1f5-0e5a-432f-b538-7056812fc553",
   "metadata": {},
   "outputs": [
    {
     "data": {
      "text/plain": [
       "['Marie', 'Einstein', 'Barry']"
      ]
     },
     "execution_count": 62,
     "metadata": {},
     "output_type": "execute_result"
    }
   ],
   "source": [
    "names_list_2"
   ]
  },
  {
   "cell_type": "code",
   "execution_count": 63,
   "id": "53a3d29e-d3fe-42da-b412-dbcfd4f43b15",
   "metadata": {},
   "outputs": [
    {
     "name": "stdout",
     "output_type": "stream",
     "text": [
      "The winner is Einstein\n"
     ]
    }
   ],
   "source": [
    "print(f\"The winner is {random.choice(names_list_2)}\")"
   ]
  },
  {
   "cell_type": "code",
   "execution_count": null,
   "id": "86bec2c5-e36b-42a2-8bcd-b4836650bb82",
   "metadata": {},
   "outputs": [],
   "source": [
    "names_in.split("
   ]
  }
 ],
 "metadata": {
  "kernelspec": {
   "display_name": "info2000",
   "language": "python",
   "name": "info2000"
  },
  "language_info": {
   "codemirror_mode": {
    "name": "ipython",
    "version": 3
   },
   "file_extension": ".py",
   "mimetype": "text/x-python",
   "name": "python",
   "nbconvert_exporter": "python",
   "pygments_lexer": "ipython3",
   "version": "3.9.18"
  }
 },
 "nbformat": 4,
 "nbformat_minor": 5
}
