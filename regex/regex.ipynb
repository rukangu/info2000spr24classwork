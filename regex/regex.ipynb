{
 "cells": [
  {
   "cell_type": "code",
   "execution_count": 13,
   "metadata": {},
   "outputs": [],
   "source": [
    "# let's create email validator\n",
    "\n",
    "def validate_email(email_address:str)->bool:\n",
    "    # valid?\n",
    "    username, domain = email_address.split('@')\n",
    "    if username == '' or domain == '':\n",
    "        return False\n",
    "    if '@' in email_address and '.' in email_address:\n",
    "        return True\n",
    "    else:\n",
    "        return False"
   ]
  },
  {
   "cell_type": "code",
   "execution_count": 16,
   "metadata": {},
   "outputs": [
    {
     "name": "stdout",
     "output_type": "stream",
     "text": [
      "andrew.rukangu@uga.edu : True\n",
      "something.@uga : True\n"
     ]
    }
   ],
   "source": [
    "valid_email = 'andrew.rukangu@uga.edu'\n",
    "invalid_email = \"something.@uga\"\n",
    "print(f\"{valid_email} : {validate_email(valid_email)}\")\n",
    "print(f\"{invalid_email} : {validate_email(invalid_email)}\")"
   ]
  },
  {
   "cell_type": "code",
   "execution_count": 15,
   "metadata": {},
   "outputs": [
    {
     "data": {
      "text/plain": [
       "['something', 'uga']"
      ]
     },
     "execution_count": 15,
     "metadata": {},
     "output_type": "execute_result"
    }
   ],
   "source": [
    "invalid_email.split('@')"
   ]
  },
  {
   "cell_type": "code",
   "execution_count": null,
   "metadata": {},
   "outputs": [],
   "source": [
    "# ^\\+?\\d?[\\-:\\s]?\\(?\\d{3}\\)?[\\-:\\s]\\d{3}[\\-:\\s]\\d{4}\n",
    "# from class: regex for phone numbers"
   ]
  },
  {
   "cell_type": "code",
   "execution_count": null,
   "metadata": {},
   "outputs": [],
   "source": [
    "# regex version of the email validator\n",
    "import re\n",
    "def ValidateRegex(email_address:str)->bool:\n",
    "    pattern = r''\n",
    "    if re.findall(pattern=pattern, string=email_address):\n",
    "       return True\n",
    "    else:\n",
    "        return False"
   ]
  }
 ],
 "metadata": {
  "kernelspec": {
   "display_name": "info2000",
   "language": "python",
   "name": "python3"
  },
  "language_info": {
   "codemirror_mode": {
    "name": "ipython",
    "version": 3
   },
   "file_extension": ".py",
   "mimetype": "text/x-python",
   "name": "python",
   "nbconvert_exporter": "python",
   "pygments_lexer": "ipython3",
   "version": "3.9.18"
  }
 },
 "nbformat": 4,
 "nbformat_minor": 2
}
