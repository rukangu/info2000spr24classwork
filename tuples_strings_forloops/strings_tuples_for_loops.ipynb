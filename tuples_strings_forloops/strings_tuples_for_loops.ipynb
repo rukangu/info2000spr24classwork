{
 "cells": [
  {
   "cell_type": "code",
   "execution_count": 1,
   "id": "e243da17-2fdc-4976-afb7-e58d5a06af71",
   "metadata": {},
   "outputs": [
    {
     "name": "stdout",
     "output_type": "stream",
     "text": [
      "11\n"
     ]
    }
   ],
   "source": [
    "# augmented assignment\n",
    "\n",
    "my_var1 = 10\n",
    "\n",
    "my_var1 = my_var1 + 1 #increment by 1\n",
    "print(my_var1)"
   ]
  },
  {
   "cell_type": "code",
   "execution_count": 2,
   "id": "fe73089e-fe63-4209-a9bd-b2184ea31680",
   "metadata": {},
   "outputs": [
    {
     "name": "stdout",
     "output_type": "stream",
     "text": [
      "12\n"
     ]
    }
   ],
   "source": [
    "my_var1 += 1\n",
    "print(my_var1)"
   ]
  },
  {
   "cell_type": "code",
   "execution_count": 3,
   "id": "d69ef4d0-1b8d-4d03-b9c6-96c35720b4cb",
   "metadata": {},
   "outputs": [
    {
     "name": "stdout",
     "output_type": "stream",
     "text": [
      "7\n"
     ]
    }
   ],
   "source": [
    "my_var1 -= 5 # subtract\n",
    "print(my_var1)"
   ]
  },
  {
   "cell_type": "code",
   "execution_count": 4,
   "id": "86c1c632-8906-4de1-ba94-471ae483d6f5",
   "metadata": {},
   "outputs": [
    {
     "name": "stdout",
     "output_type": "stream",
     "text": [
      "35\n"
     ]
    }
   ],
   "source": [
    "my_var1 *= 5 # subtract\n",
    "print(my_var1)"
   ]
  },
  {
   "cell_type": "code",
   "execution_count": 12,
   "id": "82295896-0fb2-4af2-af69-7b1fb05d1281",
   "metadata": {},
   "outputs": [],
   "source": [
    "# delete items from a list\n",
    "\n",
    "my_list  = [1,2,3,7,8,9,'x']"
   ]
  },
  {
   "cell_type": "code",
   "execution_count": 6,
   "id": "afc822e8-f4cf-4f06-87e8-3be12d71f6e6",
   "metadata": {},
   "outputs": [
    {
     "data": {
      "text/plain": [
       "[1, 2, 3, 7, 8, 9]"
      ]
     },
     "execution_count": 6,
     "metadata": {},
     "output_type": "execute_result"
    }
   ],
   "source": [
    "del(my_list[6])\n",
    "my_list"
   ]
  },
  {
   "cell_type": "code",
   "execution_count": 7,
   "id": "e983e3b3-da56-443c-b9f5-9f82e619bfe5",
   "metadata": {},
   "outputs": [],
   "source": [
    "del(my_list)"
   ]
  },
  {
   "cell_type": "code",
   "execution_count": 8,
   "id": "9681091b-2bdf-4bcb-8e18-46277c6e00d1",
   "metadata": {},
   "outputs": [
    {
     "ename": "NameError",
     "evalue": "name 'my_list' is not defined",
     "output_type": "error",
     "traceback": [
      "\u001b[1;31m----------------------------------------\u001b[0m",
      "\u001b[1;31mNameError\u001b[0mTraceback (most recent call last)",
      "Cell \u001b[1;32mIn[8], line 1\u001b[0m\n\u001b[1;32m----> 1\u001b[0m \u001b[43mmy_list\u001b[49m\n",
      "\u001b[1;31mNameError\u001b[0m: name 'my_list' is not defined"
     ]
    }
   ],
   "source": [
    "my_list"
   ]
  },
  {
   "cell_type": "code",
   "execution_count": 9,
   "id": "6e117792-7c85-4a18-a0bc-ba0e3a851235",
   "metadata": {},
   "outputs": [],
   "source": [
    "my_tup = (1,2,3)\n",
    "my_tup2 = 3,4,5"
   ]
  },
  {
   "cell_type": "code",
   "execution_count": 10,
   "id": "90b554d1-6ceb-4d82-af6c-ad9e0205c820",
   "metadata": {},
   "outputs": [
    {
     "data": {
      "text/plain": [
       "False"
      ]
     },
     "execution_count": 10,
     "metadata": {},
     "output_type": "execute_result"
    }
   ],
   "source": [
    "# the in keyword\n",
    "5 in my_tup"
   ]
  },
  {
   "cell_type": "code",
   "execution_count": 11,
   "id": "67819620-98df-4f5e-8dc7-70bb9e0a86db",
   "metadata": {},
   "outputs": [
    {
     "data": {
      "text/plain": [
       "True"
      ]
     },
     "execution_count": 11,
     "metadata": {},
     "output_type": "execute_result"
    }
   ],
   "source": [
    "5 in my_tup2"
   ]
  },
  {
   "cell_type": "code",
   "execution_count": 13,
   "id": "8fa36854-1cf0-4d0d-a165-88f733570758",
   "metadata": {},
   "outputs": [
    {
     "data": {
      "text/plain": [
       "['first element', 2, 3, 7, 8, 9, 'x']"
      ]
     },
     "execution_count": 13,
     "metadata": {},
     "output_type": "execute_result"
    }
   ],
   "source": [
    "my_list[0]  = 'first element'\n",
    "my_list"
   ]
  },
  {
   "cell_type": "code",
   "execution_count": 14,
   "id": "f04606c8-81ff-4c1a-82e8-ea55764e6910",
   "metadata": {},
   "outputs": [
    {
     "ename": "TypeError",
     "evalue": "'tuple' object does not support item assignment",
     "output_type": "error",
     "traceback": [
      "\u001b[1;31m----------------------------------------\u001b[0m",
      "\u001b[1;31mTypeError\u001b[0mTraceback (most recent call last)",
      "Cell \u001b[1;32mIn[14], line 1\u001b[0m\n\u001b[1;32m----> 1\u001b[0m my_tup[\u001b[38;5;241m0\u001b[39m]  \u001b[38;5;241m=\u001b[39m \u001b[38;5;124m'\u001b[39m\u001b[38;5;124mfirst\u001b[39m\u001b[38;5;124m'\u001b[39m\n",
      "\u001b[1;31mTypeError\u001b[0m: 'tuple' object does not support item assignment"
     ]
    }
   ],
   "source": [
    "my_tup[0]  = 'first'"
   ]
  },
  {
   "cell_type": "markdown",
   "id": "a7949d86-15ce-4b83-b147-78ceeb1f9925",
   "metadata": {},
   "source": [
    "# strings"
   ]
  },
  {
   "cell_type": "code",
   "execution_count": 15,
   "id": "f2495dd0-c8c0-4b78-aacf-1da5439db40c",
   "metadata": {},
   "outputs": [],
   "source": [
    "my_name1 = 'Andrew'\n",
    "my_name2 = \"Rukangu\""
   ]
  },
  {
   "cell_type": "code",
   "execution_count": 16,
   "id": "4aaffbf3-8567-4afe-a01b-c8ed639369ea",
   "metadata": {},
   "outputs": [
    {
     "name": "stdout",
     "output_type": "stream",
     "text": [
      "Andrew\tRukangu\n"
     ]
    }
   ],
   "source": [
    "print(my_name1, my_name2, sep = '\\t')"
   ]
  },
  {
   "cell_type": "code",
   "execution_count": 17,
   "id": "02b3c534-6eb1-43f7-a952-b3ad4ed7b281",
   "metadata": {},
   "outputs": [],
   "source": [
    "course = 'Info2000'\n",
    "course2 = 'INFO2000'\n",
    "course3 = 'INfo2000'\n"
   ]
  },
  {
   "cell_type": "code",
   "execution_count": 18,
   "id": "5b5ff10f-b8f9-41ac-9807-41f7dbc831a3",
   "metadata": {},
   "outputs": [
    {
     "data": {
      "text/plain": [
       "False"
      ]
     },
     "execution_count": 18,
     "metadata": {},
     "output_type": "execute_result"
    }
   ],
   "source": [
    "course == course2"
   ]
  },
  {
   "cell_type": "code",
   "execution_count": 19,
   "id": "775bdfc6-aebd-4ff3-9852-c69e2d786cfe",
   "metadata": {},
   "outputs": [
    {
     "data": {
      "text/plain": [
       "True"
      ]
     },
     "execution_count": 19,
     "metadata": {},
     "output_type": "execute_result"
    }
   ],
   "source": [
    "course.upper() == course2.upper()"
   ]
  },
  {
   "cell_type": "code",
   "execution_count": 20,
   "id": "8c8fca5b-8be0-42f8-abee-392f91dfe4be",
   "metadata": {},
   "outputs": [
    {
     "data": {
      "text/plain": [
       "'INFO2000'"
      ]
     },
     "execution_count": 20,
     "metadata": {},
     "output_type": "execute_result"
    }
   ],
   "source": [
    "course.upper()"
   ]
  },
  {
   "cell_type": "code",
   "execution_count": 22,
   "id": "3e6a6f90-28e0-441e-b908-bbe18a342cd5",
   "metadata": {},
   "outputs": [
    {
     "data": {
      "text/plain": [
       "True"
      ]
     },
     "execution_count": 22,
     "metadata": {},
     "output_type": "execute_result"
    }
   ],
   "source": [
    "course2.casefold() == course3.casefold()"
   ]
  },
  {
   "cell_type": "code",
   "execution_count": 26,
   "id": "cc0ac6da-e3af-4957-9968-98dc85307b16",
   "metadata": {},
   "outputs": [
    {
     "data": {
      "text/plain": [
       "['Andrew', 'Rukangu']"
      ]
     },
     "execution_count": 26,
     "metadata": {},
     "output_type": "execute_result"
    }
   ],
   "source": [
    "# split\n",
    "\n",
    "My_name = 'Andrew,Rukangu'\n",
    "names = My_name.split(',')\n",
    "names"
   ]
  },
  {
   "cell_type": "code",
   "execution_count": 27,
   "id": "f7848dba-7ba5-43e6-8636-3c9b2273dafd",
   "metadata": {},
   "outputs": [
    {
     "name": "stdout",
     "output_type": "stream",
     "text": [
      "    stuff     \n"
     ]
    }
   ],
   "source": [
    "print('    stuff     ')"
   ]
  },
  {
   "cell_type": "code",
   "execution_count": 28,
   "id": "6eccb571-46dc-4322-9fc6-2bf82f9c8e2c",
   "metadata": {},
   "outputs": [
    {
     "data": {
      "text/plain": [
       "False"
      ]
     },
     "execution_count": 28,
     "metadata": {},
     "output_type": "execute_result"
    }
   ],
   "source": [
    "'    stuff     ' == 'stuff'"
   ]
  },
  {
   "cell_type": "code",
   "execution_count": 29,
   "id": "5e2a64fd-bc32-41f1-9a8c-53e87562b145",
   "metadata": {},
   "outputs": [
    {
     "data": {
      "text/plain": [
       "True"
      ]
     },
     "execution_count": 29,
     "metadata": {},
     "output_type": "execute_result"
    }
   ],
   "source": [
    "'    stuff     '.strip() == 'stuff'"
   ]
  },
  {
   "cell_type": "code",
   "execution_count": 32,
   "id": "8dea087a-102c-4c32-b988-b768277b14a9",
   "metadata": {},
   "outputs": [],
   "source": [
    "string2 = \"this is a string\"\n",
    "string2 = string2.replace('string', 'big string')"
   ]
  },
  {
   "cell_type": "code",
   "execution_count": 33,
   "id": "6ffb8212-d4a5-4f2d-8a84-964d0536d3fd",
   "metadata": {},
   "outputs": [
    {
     "data": {
      "text/plain": [
       "'this is a big string'"
      ]
     },
     "execution_count": 33,
     "metadata": {},
     "output_type": "execute_result"
    }
   ],
   "source": [
    "string2"
   ]
  },
  {
   "cell_type": "code",
   "execution_count": 34,
   "id": "7ba37f6f-86d8-4a10-88b1-a1246383219c",
   "metadata": {},
   "outputs": [
    {
     "data": {
      "text/plain": [
       "['Andrew', 'Rukangu']"
      ]
     },
     "execution_count": 34,
     "metadata": {},
     "output_type": "execute_result"
    }
   ],
   "source": [
    "names"
   ]
  },
  {
   "cell_type": "code",
   "execution_count": 38,
   "id": "443feb57-f97a-4458-9731-182f17908194",
   "metadata": {},
   "outputs": [
    {
     "data": {
      "text/plain": [
       "'Andrew---Rukangu'"
      ]
     },
     "execution_count": 38,
     "metadata": {},
     "output_type": "execute_result"
    }
   ],
   "source": [
    "# join\n",
    "\n",
    "\"---\".join(names)"
   ]
  },
  {
   "cell_type": "code",
   "execution_count": 39,
   "id": "ab28d66f-ff2c-46e1-a7f2-1b78f4389665",
   "metadata": {},
   "outputs": [
    {
     "name": "stdout",
     "output_type": "stream",
     "text": [
      "This is a 'quoted string'\n"
     ]
    }
   ],
   "source": [
    "#\n",
    "print(\"This is a 'quoted string'\")"
   ]
  },
  {
   "cell_type": "code",
   "execution_count": 40,
   "id": "2541e4f2-08a0-4172-9821-e71f9db80177",
   "metadata": {},
   "outputs": [
    {
     "name": "stdout",
     "output_type": "stream",
     "text": [
      "This is a \"quoted string\"\n"
     ]
    }
   ],
   "source": [
    "print('This is a \"quoted string\"')"
   ]
  },
  {
   "cell_type": "code",
   "execution_count": 41,
   "id": "82b94338-5d74-4d78-a63e-cc791ac14999",
   "metadata": {},
   "outputs": [
    {
     "name": "stdout",
     "output_type": "stream",
     "text": [
      "This is a \"quoted string\" \n"
     ]
    }
   ],
   "source": [
    "print(\"This is a \\\"quoted string\\\" \")"
   ]
  },
  {
   "cell_type": "code",
   "execution_count": 42,
   "id": "3703a00a-4843-4e00-adaf-dabf44a70558",
   "metadata": {},
   "outputs": [
    {
     "name": "stdout",
     "output_type": "stream",
     "text": [
      "tab \t between\n"
     ]
    }
   ],
   "source": [
    "# some other escape sequence\n",
    "\n",
    "print(\"tab \\t between\")"
   ]
  },
  {
   "cell_type": "code",
   "execution_count": 43,
   "id": "38e59b5a-5321-4239-902f-28c4722b1682",
   "metadata": {},
   "outputs": [
    {
     "name": "stdout",
     "output_type": "stream",
     "text": [
      "newline \n",
      " between\n"
     ]
    }
   ],
   "source": [
    "print(\"newline \\n between\")"
   ]
  },
  {
   "cell_type": "code",
   "execution_count": 44,
   "id": "b2aa6e65-a65c-43fe-a6ed-8a6f3d7ddda9",
   "metadata": {},
   "outputs": [
    {
     "name": "stdout",
     "output_type": "stream",
     "text": [
      "backslash \\ here\n"
     ]
    }
   ],
   "source": [
    "print(\"backslash \\\\ here\")"
   ]
  },
  {
   "cell_type": "code",
   "execution_count": 45,
   "id": "d2234033-0a08-4403-987b-93cafcd094e7",
   "metadata": {},
   "outputs": [
    {
     "name": "stdout",
     "output_type": "stream",
     "text": [
      "Https:\\google.com\n"
     ]
    }
   ],
   "source": [
    "web_address = \"Https:\\\\google.com\"\n",
    "print(web_address)"
   ]
  },
  {
   "cell_type": "code",
   "execution_count": 46,
   "id": "7060b255-fd80-4764-8dc3-ec6880d4b393",
   "metadata": {},
   "outputs": [
    {
     "name": "stdout",
     "output_type": "stream",
     "text": [
      "Https:\\\\google.com\n"
     ]
    }
   ],
   "source": [
    "web_address = \"Https:\\\\\\\\google.com\"\n",
    "print(web_address)"
   ]
  },
  {
   "cell_type": "code",
   "execution_count": 47,
   "id": "ebf223ac-870f-4bed-be5e-59a0c40bf1c8",
   "metadata": {},
   "outputs": [
    {
     "name": "stdout",
     "output_type": "stream",
     "text": [
      "Https:\\\\google.com\n"
     ]
    }
   ],
   "source": [
    "web_address = r\"Https:\\\\google.com\"\n",
    "print(web_address)"
   ]
  },
  {
   "cell_type": "code",
   "execution_count": 48,
   "id": "f51566c1-09f4-4566-a625-7663bdab8934",
   "metadata": {},
   "outputs": [
    {
     "name": "stdout",
     "output_type": "stream",
     "text": [
      "Dear students,\n",
      "I hope this finds you well.\n",
      "See you on Thursday\n"
     ]
    }
   ],
   "source": [
    "print('''Dear students,\n",
    "I hope this finds you well.\n",
    "See you on Thursday''')"
   ]
  },
  {
   "cell_type": "code",
   "execution_count": 51,
   "id": "3accc469-2b62-436a-a0e1-f1537e7ab71a",
   "metadata": {},
   "outputs": [
    {
     "name": "stdout",
     "output_type": "stream",
     "text": [
      "Dear students,\n",
      "I hope this finds you well.\n",
      "See you on Thursday\n"
     ]
    }
   ],
   "source": [
    "print(\"Dear students,\\nI hope this finds you well.\\nSee you on Thursday\")"
   ]
  },
  {
   "cell_type": "code",
   "execution_count": 52,
   "id": "0d54362b-5e1a-4d68-9333-d0fc4e81b424",
   "metadata": {},
   "outputs": [
    {
     "data": {
      "text/plain": [
       "'AndrewRukangu'"
      ]
     },
     "execution_count": 52,
     "metadata": {},
     "output_type": "execute_result"
    }
   ],
   "source": [
    "# concatenation\n",
    "\n",
    "my_name1 + my_name2"
   ]
  },
  {
   "cell_type": "code",
   "execution_count": 53,
   "id": "8ccb45bc-7e68-4909-a846-5e33b481c245",
   "metadata": {},
   "outputs": [
    {
     "data": {
      "text/plain": [
       "'RukanguRukanguRukangu'"
      ]
     },
     "execution_count": 53,
     "metadata": {},
     "output_type": "execute_result"
    }
   ],
   "source": [
    "my_name2 * 3"
   ]
  },
  {
   "cell_type": "code",
   "execution_count": 65,
   "id": "3e5e4180-283b-4563-a127-9a8107cf1d61",
   "metadata": {},
   "outputs": [
    {
     "name": "stdout",
     "output_type": "stream",
     "text": [
      "my int is 123 and my float is 3.142\n"
     ]
    }
   ],
   "source": [
    "# more formatting\n",
    "\n",
    "my_int = 123\n",
    "my_float = 3.142\n",
    "\n",
    "print(f\"my int is {my_int} and my float is {my_float}\")"
   ]
  },
  {
   "cell_type": "code",
   "execution_count": 55,
   "id": "c7e91b5e-2978-44ae-ab28-977b217e4ed7",
   "metadata": {},
   "outputs": [
    {
     "name": "stdout",
     "output_type": "stream",
     "text": [
      "sum is  103.142\n"
     ]
    }
   ],
   "source": [
    "print(f\"sum is  {my_int + my_float}\")"
   ]
  },
  {
   "cell_type": "code",
   "execution_count": 60,
   "id": "60f6ad76-6376-48cd-b172-900a4d2be422",
   "metadata": {},
   "outputs": [
    {
     "name": "stdout",
     "output_type": "stream",
     "text": [
      "num is  -3.14\n"
     ]
    }
   ],
   "source": [
    "print(f\"num is  {my_float:+.2f}\")"
   ]
  },
  {
   "cell_type": "code",
   "execution_count": 71,
   "id": "16ca24cf-2a71-41a7-8ee5-2c3045a3335e",
   "metadata": {},
   "outputs": [
    {
     "name": "stdout",
     "output_type": "stream",
     "text": [
      "padded num is  xxxxxxxxxxxx123\n"
     ]
    }
   ],
   "source": [
    "# padding\n",
    "\n",
    "print(f\"padded num is  {my_int:x>15}\")"
   ]
  },
  {
   "cell_type": "code",
   "execution_count": 72,
   "id": "f0d3e1d4-9bca-44ac-902d-2a2ed5248b32",
   "metadata": {},
   "outputs": [
    {
     "name": "stdout",
     "output_type": "stream",
     "text": [
      "True\n"
     ]
    }
   ],
   "source": [
    "list2 = [1,0,0,0]\n",
    "print(any(list2)) # retrns tue if any value is nonzero"
   ]
  },
  {
   "cell_type": "code",
   "execution_count": 73,
   "id": "5e42bb33-be94-4878-a52d-983fdad70aea",
   "metadata": {},
   "outputs": [
    {
     "name": "stdout",
     "output_type": "stream",
     "text": [
      "False\n"
     ]
    }
   ],
   "source": [
    "list2 = [1,0,0,0]\n",
    "print(all(list2)) # retrns tue if any value is nonzero"
   ]
  },
  {
   "cell_type": "code",
   "execution_count": 74,
   "id": "425a09d8-7e8b-4b69-97e4-d69761f7cda0",
   "metadata": {},
   "outputs": [
    {
     "name": "stdout",
     "output_type": "stream",
     "text": [
      "True\n"
     ]
    }
   ],
   "source": [
    "list2 = [1,1,1,1]\n",
    "print(any(list2)) # retrns tue if any value is nonzero"
   ]
  },
  {
   "cell_type": "code",
   "execution_count": 75,
   "id": "3d29d2d3-bccf-4ff1-a688-e5b3a200822e",
   "metadata": {},
   "outputs": [
    {
     "data": {
      "text/plain": [
       "(1, 1, 1, 1)"
      ]
     },
     "execution_count": 75,
     "metadata": {},
     "output_type": "execute_result"
    }
   ],
   "source": [
    "tuple(list2)"
   ]
  },
  {
   "cell_type": "code",
   "execution_count": 76,
   "id": "5599bde1-159e-4284-86ab-ec451646a04e",
   "metadata": {},
   "outputs": [
    {
     "data": {
      "text/plain": [
       "[1, 2, 3]"
      ]
     },
     "execution_count": 76,
     "metadata": {},
     "output_type": "execute_result"
    }
   ],
   "source": [
    "list(my_tup)"
   ]
  },
  {
   "cell_type": "code",
   "execution_count": 1,
   "id": "83dec7f2-0978-4229-adba-075c429bb6ce",
   "metadata": {},
   "outputs": [
    {
     "name": "stdout",
     "output_type": "stream",
     "text": [
      "Kelly can you handle this?\n",
      "Michelle can you handle this?\n",
      "Beyonce can you handle this?\n",
      "I don't think they can handle this !\n"
     ]
    }
   ],
   "source": [
    "destinys_child = ['Kelly', 'Michelle', 'Beyonce']\n",
    "for singer in destinys_child:\n",
    "    print(f\"{singer} can you handle this?\")\n",
    "    \n",
    "print(\"I don't think they can handle this !\")\n",
    "    "
   ]
  },
  {
   "cell_type": "code",
   "execution_count": 16,
   "id": "c2000b5c-fa4e-4ad9-9cfb-452cdd9db220",
   "metadata": {},
   "outputs": [
    {
     "data": {
      "text/plain": [
       "['egg',\n",
       " 'egg',\n",
       " 'egg',\n",
       " 'egg',\n",
       " 'egg',\n",
       " 'egg',\n",
       " 'egg',\n",
       " 'egg',\n",
       " 'egg',\n",
       " 'egg',\n",
       " 'egg',\n",
       " 'egg']"
      ]
     },
     "execution_count": 16,
     "metadata": {},
     "output_type": "execute_result"
    }
   ],
   "source": [
    "# create our tray\n",
    "# it's a list of 12 eggs\n",
    "\n",
    "# egg_string = 'egg,'*12\n",
    "# egg_string = egg_string.strip(',')\n",
    "# egg_tray = egg_string.split(',')\n",
    "# egg_tray\n",
    "\n",
    "egg_tray = ('egg,'*12).strip(',').split(',')\n",
    "egg_tray"
   ]
  },
  {
   "cell_type": "code",
   "execution_count": 22,
   "id": "492393fe-c315-4b99-91dd-837c31184000",
   "metadata": {},
   "outputs": [
    {
     "name": "stdout",
     "output_type": "stream",
     "text": [
      "egg_G_1\n",
      "egg_G_2\n",
      "egg_G_3\n",
      "egg_G_4\n",
      "egg_G_5\n",
      "egg_G_6\n",
      "egg_G_7\n",
      "egg_G_8\n",
      "egg_G_9\n",
      "egg_G_10\n",
      "egg_G_11\n",
      "egg_G_12\n"
     ]
    }
   ],
   "source": [
    "# stamp a G and a number on each of the eggs\n",
    "\n",
    "counter = 0\n",
    "tray2 = []\n",
    "for current_egg in egg_tray:\n",
    "    counter+=1\n",
    "    print(f\"{current_egg}_G_{counter}\")\n",
    "    tray2.append(f\"{current_egg}_G_{counter}\")\n",
    "    "
   ]
  },
  {
   "cell_type": "code",
   "execution_count": 23,
   "id": "63e0e445-28fe-4ea9-bf73-12795c20e3f0",
   "metadata": {},
   "outputs": [
    {
     "data": {
      "text/plain": [
       "['egg_G_1',\n",
       " 'egg_G_2',\n",
       " 'egg_G_3',\n",
       " 'egg_G_4',\n",
       " 'egg_G_5',\n",
       " 'egg_G_6',\n",
       " 'egg_G_7',\n",
       " 'egg_G_8',\n",
       " 'egg_G_9',\n",
       " 'egg_G_10',\n",
       " 'egg_G_11',\n",
       " 'egg_G_12']"
      ]
     },
     "execution_count": 23,
     "metadata": {},
     "output_type": "execute_result"
    }
   ],
   "source": [
    "tray2"
   ]
  },
  {
   "cell_type": "code",
   "execution_count": null,
   "id": "c732b001-3f5c-4573-91f7-62e9c3215fb7",
   "metadata": {},
   "outputs": [],
   "source": []
  },
  {
   "cell_type": "code",
   "execution_count": 24,
   "id": "e6a0216f-0e1b-4a0d-aae0-e44904bb1e4f",
   "metadata": {},
   "outputs": [
    {
     "name": "stdout",
     "output_type": "stream",
     "text": [
      "egg_G_1\n",
      "egg_G_2\n",
      "egg_G_3\n",
      "egg_G_4\n",
      "egg_G_5\n",
      "egg_G_6\n",
      "egg_G_7\n",
      "egg_G_8\n",
      "egg_G_9\n",
      "egg_G_10\n",
      "egg_G_11\n",
      "egg_G_12\n"
     ]
    }
   ],
   "source": [
    "# demo bad variable names\n",
    "# stamp a G and a number on each of the eggs\n",
    "\n",
    "counter = 0\n",
    "tray2 = []\n",
    "for notFriendlyVariableName in egg_tray:\n",
    "    counter+=1\n",
    "    print(f\"{notFriendlyVariableName}_G_{counter}\")\n",
    "    tray2.append(f\"{notFriendlyVariableName}_G_{counter}\")"
   ]
  },
  {
   "cell_type": "code",
   "execution_count": null,
   "id": "ecd2f4a3-9a43-42b2-9a12-69df959b5069",
   "metadata": {},
   "outputs": [],
   "source": [
    "my_matrix = [[1,2,3],[2,3,4],[5,6,7]]"
   ]
  }
 ],
 "metadata": {
  "kernelspec": {
   "display_name": "info2000",
   "language": "python",
   "name": "info2000"
  },
  "language_info": {
   "codemirror_mode": {
    "name": "ipython",
    "version": 3
   },
   "file_extension": ".py",
   "mimetype": "text/x-python",
   "name": "python",
   "nbconvert_exporter": "python",
   "pygments_lexer": "ipython3",
   "version": "3.9.18"
  }
 },
 "nbformat": 4,
 "nbformat_minor": 5
}
