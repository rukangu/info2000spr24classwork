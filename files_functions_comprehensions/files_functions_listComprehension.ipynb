{
 "cells": [
  {
   "cell_type": "code",
   "execution_count": 1,
   "id": "b2e78c02-f7d8-4da0-9544-5d165c118dff",
   "metadata": {},
   "outputs": [
    {
     "data": {
      "text/plain": [
       "[{'name': 'kyle', 'grades': [100, 89, 90], 'final': 'A'},\n",
       " {'name': 'andrew', 'grades': [45, 68, 50], 'final': 'D'},\n",
       " {'name': 'john', 'grades': [100, 100, 99], 'final': 'A'}]"
      ]
     },
     "execution_count": 1,
     "metadata": {},
     "output_type": "execute_result"
    }
   ],
   "source": [
    "kyle = {'name': 'kyle', 'grades' : [100,89,90], 'final' : 'A'}\n",
    "andrew = {'name':'andrew', 'grades':[45, 68,50], 'final': 'D'} \n",
    "john = {'name':'john', 'grades': [100,100,99], 'final' : 'A'} \n",
    "student_list = [kyle, andrew, john]\n",
    "student_list\n",
    "        \n"
   ]
  },
  {
   "cell_type": "code",
   "execution_count": 2,
   "id": "417944c7-c793-4288-af8c-2cf2cdee70b3",
   "metadata": {},
   "outputs": [
    {
     "data": {
      "text/plain": [
       "['kyle', 'andrew', 'john']"
      ]
     },
     "execution_count": 2,
     "metadata": {},
     "output_type": "execute_result"
    }
   ],
   "source": [
    "# using a for loop collect the student names\n",
    "\n",
    "student_names = []\n",
    "for student in student_list:\n",
    "    student_names.append(student['name'])\n",
    "    \n",
    "student_names"
   ]
  },
  {
   "cell_type": "code",
   "execution_count": 5,
   "id": "2ca465df-cd3c-473e-981e-f3989bd23ebd",
   "metadata": {},
   "outputs": [
    {
     "data": {
      "text/plain": [
       "['kyle', 'andrew', 'john']"
      ]
     },
     "execution_count": 5,
     "metadata": {},
     "output_type": "execute_result"
    }
   ],
   "source": [
    "student_names2 = [student['name'] for student in student_list]\n",
    "student_names2"
   ]
  },
  {
   "cell_type": "code",
   "execution_count": 8,
   "id": "307dc1e7-c6f9-4359-a4f3-7345e801f154",
   "metadata": {},
   "outputs": [
    {
     "data": {
      "text/plain": [
       "['kyle', 'john']"
      ]
     },
     "execution_count": 8,
     "metadata": {},
     "output_type": "execute_result"
    }
   ],
   "source": [
    "# using a for loop collect the student names\n",
    "\n",
    "student_names_A = []\n",
    "for student in student_list:\n",
    "    if student['final'] == 'A':\n",
    "        student_names_A.append(student['name'])\n",
    "    \n",
    "student_names_A"
   ]
  },
  {
   "cell_type": "code",
   "execution_count": 10,
   "id": "826dd0ae-6ca0-4658-8a78-a233e1c338c9",
   "metadata": {},
   "outputs": [
    {
     "data": {
      "text/plain": [
       "['kyle', 'john']"
      ]
     },
     "execution_count": 10,
     "metadata": {},
     "output_type": "execute_result"
    }
   ],
   "source": [
    "student_names2_A = [student['name'] for student in student_list if student['final']=='A']\n",
    "student_names2_A"
   ]
  },
  {
   "cell_type": "markdown",
   "id": "19f477ec-391e-4719-8fe8-7d5ff5ce2a07",
   "metadata": {},
   "source": [
    "# BMI function"
   ]
  },
  {
   "cell_type": "code",
   "execution_count": 12,
   "id": "43b22b8f-ddc0-412e-ab61-ff8c7c04db46",
   "metadata": {},
   "outputs": [],
   "source": [
    "# function definition\n",
    "def BMI_calculator(height, weight):\n",
    "    return weight/height**2"
   ]
  },
  {
   "cell_type": "code",
   "execution_count": 15,
   "id": "39255649-746c-4d32-ba30-df04fb9a6256",
   "metadata": {},
   "outputs": [
    {
     "data": {
      "text/plain": [
       "34.602076124567475"
      ]
     },
     "execution_count": 15,
     "metadata": {},
     "output_type": "execute_result"
    }
   ],
   "source": [
    "# actually call it\n",
    "BMI_calculator(1.7,100)"
   ]
  },
  {
   "cell_type": "code",
   "execution_count": 16,
   "id": "143f9b03-95cc-4b84-87d2-188b6c6babcf",
   "metadata": {},
   "outputs": [],
   "source": [
    "# type hints\n",
    "def BMI_calculator2(height:float, weight:float)->float:\n",
    "    '''\n",
    "    this computes the BMI given the height and weight in metric units\n",
    "    '''\n",
    "    return weight/height**2"
   ]
  },
  {
   "cell_type": "code",
   "execution_count": 17,
   "id": "cfa5c681-b9a8-4e57-8bd5-23912687cf33",
   "metadata": {},
   "outputs": [
    {
     "data": {
      "text/plain": [
       "34.602076124567475"
      ]
     },
     "execution_count": 17,
     "metadata": {},
     "output_type": "execute_result"
    }
   ],
   "source": [
    "BMI_calculator(1.7,100)"
   ]
  },
  {
   "cell_type": "code",
   "execution_count": 18,
   "id": "7f55fadd-619a-4d89-b07f-210cf0ef95ab",
   "metadata": {},
   "outputs": [],
   "source": [
    "def BMI_calculator2(height:float, weight:float, units = 'metric')->float:\n",
    "    '''\n",
    "    this computes the BMI given the height and weight in metric units\n",
    "    '''\n",
    "    if units == 'metric':\n",
    "        return weight/height**2\n",
    "    elif units == 'imperial':\n",
    "        weight /= 2.2\n",
    "        height *=.025\n",
    "        return weight/height**2"
   ]
  },
  {
   "cell_type": "code",
   "execution_count": 19,
   "id": "8fd574ab-973a-40ae-aa62-4e5398308541",
   "metadata": {},
   "outputs": [
    {
     "data": {
      "text/plain": [
       "90.9090909090909"
      ]
     },
     "execution_count": 19,
     "metadata": {},
     "output_type": "execute_result"
    }
   ],
   "source": [
    "# imperial units\n",
    "\n",
    "BMI_calculator2(40, 200, units = 'imperial')"
   ]
  },
  {
   "cell_type": "code",
   "execution_count": 20,
   "id": "5d6b8f15-a2d9-4108-b619-039cf7ea3825",
   "metadata": {},
   "outputs": [
    {
     "data": {
      "text/plain": [
       "90.9090909090909"
      ]
     },
     "execution_count": 20,
     "metadata": {},
     "output_type": "execute_result"
    }
   ],
   "source": [
    "BMI_calculator2(40, 200, 'imperial')"
   ]
  },
  {
   "cell_type": "code",
   "execution_count": 23,
   "id": "e9be564a-7078-4c30-9d4b-b9932b8b5c3e",
   "metadata": {},
   "outputs": [
    {
     "data": {
      "text/plain": [
       "90.9090909090909"
      ]
     },
     "execution_count": 23,
     "metadata": {},
     "output_type": "execute_result"
    }
   ],
   "source": [
    "BMI_calculator2(units = 'imperial', height = 40, weight = 200)"
   ]
  },
  {
   "cell_type": "markdown",
   "id": "733ba854-5e0c-43a6-9019-50e7fb664360",
   "metadata": {},
   "source": [
    "# calculator\n",
    "\n"
   ]
  },
  {
   "cell_type": "code",
   "execution_count": 48,
   "id": "de3902b5-15b2-426d-9a10-f7d19e9b4917",
   "metadata": {},
   "outputs": [],
   "source": [
    "# sanitize user input\n",
    "\n",
    "def get_user_in(prompt, exclude):\n",
    "    \n",
    "    # try to cast into a float\n",
    "    while True:\n",
    "        num = input(prompt).strip()\n",
    "        try:\n",
    "            num = float(num)\n",
    "        except:\n",
    "            print(\"invalid input. Enter a float or int\")\n",
    "        else:\n",
    "            num = float(num)\n",
    "            if num in exclude:\n",
    "                print(f\"{num} not allowed. Enter valid number\")\n",
    "            else:\n",
    "                break            \n",
    "    return num\n",
    "        \n",
    "    "
   ]
  },
  {
   "cell_type": "code",
   "execution_count": 49,
   "id": "b45af261-379c-4d4b-ba60-65f343c2f530",
   "metadata": {},
   "outputs": [],
   "source": [
    "# addition function\n",
    "\n",
    "def add_two(a,b):\n",
    "    '''Adds two numbers'''\n",
    "    return a+b\n",
    "\n",
    "# subtraction\n",
    "def subtract_two(a,b):\n",
    "    ''' - '''\n",
    "    return a - b\n",
    "\n",
    "# division\n",
    "def divide_two(a,b):\n",
    "    ''' / '''\n",
    "    return (a/b)\n",
    "def multiply_two(a,b):\n",
    "    ''' * '''\n",
    "    return a*b\n"
   ]
  },
  {
   "cell_type": "code",
   "execution_count": null,
   "id": "7c58cf63-536b-49d5-b8e2-6222d8c66421",
   "metadata": {},
   "outputs": [],
   "source": []
  },
  {
   "cell_type": "code",
   "execution_count": null,
   "id": "d55da94c-68ed-4e27-bc93-5423ad8933db",
   "metadata": {},
   "outputs": [],
   "source": []
  },
  {
   "cell_type": "code",
   "execution_count": 50,
   "id": "2f818d49-468f-4c6a-b5ab-35f596fad2b3",
   "metadata": {},
   "outputs": [],
   "source": [
    "# addition, subtraction, division, multiplication\n",
    "# get input from user (sanitize the input)\n",
    "# user quits with 'q'\n",
    "\n",
    "\n",
    "def calculator():\n",
    "    quit_conditions = ['q','n','no','quit']\n",
    "    # get user input\n",
    "    while True:\n",
    "        operation = input(\"0:addition\\n1:subtraction\\n2:division\\n3:multiplication\\nq:quit\").strip().casefold()\n",
    "        if operation.casefold() in quit_conditions:\n",
    "            print(\"thanks for using our calculator. bye\")\n",
    "            break \n",
    "        if operation == '0':\n",
    "            # addition\n",
    "            # get the operands from the user\n",
    "            # a,b = input('Enter the two operands separated by a , e.g. 3,5').split(',')\n",
    "            a = get_user_in(\"enter first number\",[])\n",
    "            b = get_user_in(\"Enter second number\", [])\n",
    "            # call addition function\n",
    "            res = add_two(float(a),float(b))\n",
    "            print(f'{a}+ {b} = {res}')\n",
    "        if operation == '1':\n",
    "            # subtraction\n",
    "            a = get_user_in(\"enter first number\",[])\n",
    "            b = get_user_in(\"Enter second number\", [])\n",
    "            print(f'{a} - {b} = {subtract_two(a,b)}')\n",
    "        if operation == '2':\n",
    "            # division\n",
    "            a = get_user_in(\"enter first number\",[])\n",
    "            b = get_user_in(\"Enter second number\", [0])\n",
    "            print(f'{a} / {b} = {divide_two(a,b)}')\n",
    "        if operation == '3':\n",
    "            #multiplication\n",
    "            a,b = input('Enter the two operands separated by a , e.g. 3,5').split(',')\n",
    "            print(f'{a} * {b} = {multiply_two(a,b)}')"
   ]
  },
  {
   "cell_type": "code",
   "execution_count": 51,
   "id": "2c35b21c-6df7-4864-8737-6cf1711a63fa",
   "metadata": {},
   "outputs": [
    {
     "name": "stdin",
     "output_type": "stream",
     "text": [
      "0:addition\n",
      "1:subtraction\n",
      "2:division\n",
      "3:multiplication\n",
      "q:quit 2\n",
      "enter first number 10\n",
      "Enter second number 10\n"
     ]
    },
    {
     "name": "stdout",
     "output_type": "stream",
     "text": [
      "10.0 / 10.0 = 1.0\n"
     ]
    },
    {
     "name": "stdin",
     "output_type": "stream",
     "text": [
      "0:addition\n",
      "1:subtraction\n",
      "2:division\n",
      "3:multiplication\n",
      "q:quit 2\n",
      "enter first number 10\n",
      "Enter second number 0\n"
     ]
    },
    {
     "name": "stdout",
     "output_type": "stream",
     "text": [
      "0.0 not allowed. Enter valid number\n"
     ]
    },
    {
     "name": "stdin",
     "output_type": "stream",
     "text": [
      "Enter second number 0\n"
     ]
    },
    {
     "name": "stdout",
     "output_type": "stream",
     "text": [
      "0.0 not allowed. Enter valid number\n"
     ]
    },
    {
     "name": "stdin",
     "output_type": "stream",
     "text": [
      "Enter second number 0\n"
     ]
    },
    {
     "name": "stdout",
     "output_type": "stream",
     "text": [
      "0.0 not allowed. Enter valid number\n"
     ]
    },
    {
     "name": "stdin",
     "output_type": "stream",
     "text": [
      "Enter second number 0\n"
     ]
    },
    {
     "name": "stdout",
     "output_type": "stream",
     "text": [
      "0.0 not allowed. Enter valid number\n"
     ]
    },
    {
     "name": "stdin",
     "output_type": "stream",
     "text": [
      "Enter second number fghh\n"
     ]
    },
    {
     "name": "stdout",
     "output_type": "stream",
     "text": [
      "invalid input. Enter a float or int\n"
     ]
    },
    {
     "name": "stdin",
     "output_type": "stream",
     "text": [
      "Enter second number 9\n"
     ]
    },
    {
     "name": "stdout",
     "output_type": "stream",
     "text": [
      "10.0 / 9.0 = 1.1111111111111112\n"
     ]
    },
    {
     "name": "stdin",
     "output_type": "stream",
     "text": [
      "0:addition\n",
      "1:subtraction\n",
      "2:division\n",
      "3:multiplication\n",
      "q:quit q\n"
     ]
    },
    {
     "name": "stdout",
     "output_type": "stream",
     "text": [
      "thanks for using our calculator. bye\n"
     ]
    }
   ],
   "source": [
    "# actually call the calculator\n",
    "calculator()"
   ]
  },
  {
   "cell_type": "markdown",
   "id": "2ee23b51-fe8d-4c50-9a46-c7c3490c5b19",
   "metadata": {},
   "source": [
    "# student registry"
   ]
  },
  {
   "cell_type": "code",
   "execution_count": null,
   "id": "dac8ecda-f946-44fe-b793-a0a0aac94b7c",
   "metadata": {},
   "outputs": [],
   "source": [
    "# get student name and print details if in file\n",
    "# else get information from them\n",
    "\n",
    "\n",
    "# two ways:\n",
    "    #1 two files: one for names, the other for student info\n",
    "    #2 a list of dictionaries for student details and store this in file using json"
   ]
  },
  {
   "cell_type": "code",
   "execution_count": 57,
   "id": "c1dfdb6c-5d1e-4abf-a56a-6445334231ea",
   "metadata": {},
   "outputs": [],
   "source": [
    "# first way\n",
    "import os\n",
    "# details file \n",
    "details_file = 'details.txt'\n",
    "students_file = 'students.txt'\n",
    "\n",
    "def init_process(student_filename = 'students.txt', details_filename = 'details.txt'):\n",
    "    # if file exists, then we read the user details from file\n",
    "    if os.path.exists(student_filename):\n",
    "        # with open(student_filename,'r') as students, open(details_filename,'r') as details:\n",
    "        #     students = students.readlines()\n",
    "        #     details = details.readlines()\n",
    "        with open(student_filename,'r') as students:\n",
    "            with open(details_filename,'r') as details:\n",
    "                students = students.readlines()\n",
    "                details = details.readlines()\n",
    "    else:\n",
    "    # else: create the file and return empty user details\n",
    "        with open(student_filename,'w') as students:\n",
    "            with open(details_filename,'w') as details:\n",
    "                ... \n",
    "                pass \n",
    "                # do nothing, but create the empty files\n",
    "        students = []\n",
    "        details = []\n",
    "        \n",
    "    return students, details"
   ]
  },
  {
   "cell_type": "code",
   "execution_count": 58,
   "id": "fed725b3-9d33-4c6a-bdb5-5da6e89be928",
   "metadata": {},
   "outputs": [
    {
     "name": "stdin",
     "output_type": "stream",
     "text": [
      "enter name Andrew\n"
     ]
    }
   ],
   "source": [
    "studs, deets = init_process()\n",
    "name = input (\"enter name\")\n",
    "# if name in studs:\n",
    "#     print(deets[]"
   ]
  },
  {
   "cell_type": "code",
   "execution_count": 59,
   "id": "f89d5a28-c0dc-4d44-8d5e-c7f75c42e522",
   "metadata": {},
   "outputs": [
    {
     "data": {
      "text/plain": [
       "[]"
      ]
     },
     "execution_count": 59,
     "metadata": {},
     "output_type": "execute_result"
    }
   ],
   "source": [
    "studs"
   ]
  },
  {
   "cell_type": "code",
   "execution_count": 60,
   "id": "cc40eb78-50e4-4dc9-967c-df9d882e1648",
   "metadata": {},
   "outputs": [
    {
     "data": {
      "text/plain": [
       "[]"
      ]
     },
     "execution_count": 60,
     "metadata": {},
     "output_type": "execute_result"
    }
   ],
   "source": [
    "deets"
   ]
  },
  {
   "cell_type": "code",
   "execution_count": null,
   "id": "2aecc268-f2fc-40f5-8f07-1a0d8f1b7d13",
   "metadata": {},
   "outputs": [],
   "source": []
  }
 ],
 "metadata": {
  "kernelspec": {
   "display_name": "info2000",
   "language": "python",
   "name": "info2000"
  },
  "language_info": {
   "codemirror_mode": {
    "name": "ipython",
    "version": 3
   },
   "file_extension": ".py",
   "mimetype": "text/x-python",
   "name": "python",
   "nbconvert_exporter": "python",
   "pygments_lexer": "ipython3",
   "version": "3.9.18"
  }
 },
 "nbformat": 4,
 "nbformat_minor": 5
}
