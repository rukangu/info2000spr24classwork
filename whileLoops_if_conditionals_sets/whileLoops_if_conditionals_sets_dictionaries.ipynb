{
 "cells": [
  {
   "cell_type": "code",
   "execution_count": 3,
   "id": "a83fbe9e-d43e-4c5f-9070-9722d6e10002",
   "metadata": {},
   "outputs": [
    {
     "name": "stdout",
     "output_type": "stream",
     "text": [
      "you get 2 apple\n",
      "you get 4 pear\n",
      "you get 7 orange\n",
      "you get 8 banana\n",
      "you get 1 kiwi\n"
     ]
    }
   ],
   "source": [
    "# ctype vs pythonic loops\n",
    "\n",
    "# create the lists\n",
    "\n",
    "fruits = ['apple' ,'pear','orange','banana','kiwi']\n",
    "numbers = [2,4,7,8,1]\n",
    "\n",
    "#ctype\n",
    "\n",
    "# create and initialize the loop variable\n",
    "\n",
    "i = 0\n",
    "\n",
    "for _ in range(len(fruits)):\n",
    "    print(f\"you get {numbers[i]} {fruits[i]}\")\n",
    "    i +=1\n",
    "    \n",
    "\n"
   ]
  },
  {
   "cell_type": "code",
   "execution_count": 4,
   "id": "a914b931-56ae-4fa1-9daf-31ca3e83a24f",
   "metadata": {},
   "outputs": [
    {
     "name": "stdout",
     "output_type": "stream",
     "text": [
      "you get 2 apple\n",
      "you get 4 pear\n",
      "you get 7 orange\n",
      "you get 8 banana\n",
      "you get 1 kiwi\n"
     ]
    }
   ],
   "source": [
    "# pythonic way\n",
    "\n",
    "for num, fruit in zip(numbers,fruits):\n",
    "    print(f\"you get {num} {fruit}\")"
   ]
  },
  {
   "cell_type": "code",
   "execution_count": 8,
   "id": "2a138494-8eaa-4e5d-9ba4-4122b9447367",
   "metadata": {},
   "outputs": [
    {
     "name": "stdout",
     "output_type": "stream",
     "text": [
      "None of the conditions were true\n"
     ]
    }
   ],
   "source": [
    "# if statements\n",
    "\n",
    "condition1 = False\n",
    "condition2 = False\n",
    "condition3 = False\n",
    "condition4 = False\n",
    "\n",
    "\n",
    "if condition1: # equivalent if condition1 == True: \n",
    "    print(\"condition 1 is true!\")\n",
    "elif condition2:\n",
    "    print(\"condition 2 is true!\")\n",
    "elif condition3:\n",
    "    print(\"condition 3 is true!\")\n",
    "elif condition4:\n",
    "    print(\"condition 4 is true!\")\n",
    "else:\n",
    "    print(\"None of the conditions were true\")"
   ]
  },
  {
   "cell_type": "code",
   "execution_count": 9,
   "id": "4fd0fc9c-291c-44df-b5b1-62d0ca772e38",
   "metadata": {},
   "outputs": [
    {
     "name": "stdout",
     "output_type": "stream",
     "text": [
      "condition 1 is true!\n",
      "condition 2 is true!\n",
      "condition 3 is true!\n",
      "condition 4 is true!\n"
     ]
    }
   ],
   "source": [
    "# if statements/ might be a bug\n",
    "\n",
    "condition1 = True\n",
    "condition2 = True\n",
    "condition3 = True\n",
    "condition4 = True\n",
    "\n",
    "\n",
    "if condition1: # equivalent if condition1 == True: \n",
    "    print(\"condition 1 is true!\")\n",
    "    \n",
    "if condition2:\n",
    "    print(\"condition 2 is true!\")\n",
    "    \n",
    "if condition3:\n",
    "    print(\"condition 3 is true!\")\n",
    "    \n",
    "if condition4:\n",
    "    print(\"condition 4 is true!\")\n",
    "else:\n",
    "    print(\"None of the conditions were true\")"
   ]
  },
  {
   "cell_type": "code",
   "execution_count": 10,
   "id": "c91883d5-3e70-468e-8607-8d49fa1d5c73",
   "metadata": {},
   "outputs": [
    {
     "data": {
      "text/plain": [
       "True"
      ]
     },
     "execution_count": 10,
     "metadata": {},
     "output_type": "execute_result"
    }
   ],
   "source": [
    "# some conditional statements\n",
    "\n",
    "my_age = 20\n",
    "\n",
    "my_age > 5"
   ]
  },
  {
   "cell_type": "code",
   "execution_count": 11,
   "id": "a4e3a210-7778-441c-bb9e-69d994c3edfb",
   "metadata": {},
   "outputs": [
    {
     "data": {
      "text/plain": [
       "True"
      ]
     },
     "execution_count": 11,
     "metadata": {},
     "output_type": "execute_result"
    }
   ],
   "source": [
    "my_age > 5 and my_age < 50"
   ]
  },
  {
   "cell_type": "code",
   "execution_count": 15,
   "id": "14112878-d5c1-403f-9257-f302323eecd5",
   "metadata": {},
   "outputs": [
    {
     "name": "stdout",
     "output_type": "stream",
     "text": [
      "You're worth 50 million dollars!\n"
     ]
    }
   ],
   "source": [
    "# predict the value of a soccer player\n",
    "soccer_skill = 92\n",
    "height = 1.5\n",
    "stamina = 95\n",
    "leadership = 70\n",
    "\n",
    "if soccer_skill>80 and stamina > 90 and leadership > 60:\n",
    "    print(\"You're worth 50 million dollars!\")\n",
    "elif soccer_skill < 50 or stamina < 10 :\n",
    "    print(\"you shouldn't play soccer! but your worth is 10 million!\")\n",
    "else:\n",
    "    print(\"You are a generic player and you should cost 15 million\")\n",
    "    "
   ]
  },
  {
   "cell_type": "code",
   "execution_count": 16,
   "id": "9eaf042f-a002-4b3f-b7a5-b53b75815910",
   "metadata": {},
   "outputs": [
    {
     "ename": "SyntaxError",
     "evalue": "invalid syntax (3215773634.py, line 1)",
     "output_type": "error",
     "traceback": [
      "\u001b[1;36m  Cell \u001b[1;32mIn[16], line 1\u001b[1;36m\u001b[0m\n\u001b[1;33m    soccer_skill>50 and < 90\u001b[0m\n\u001b[1;37m                        ^\u001b[0m\n\u001b[1;31mSyntaxError\u001b[0m\u001b[1;31m:\u001b[0m invalid syntax\n"
     ]
    }
   ],
   "source": [
    "soccer_skill>50 and  < 90\n",
    "    "
   ]
  },
  {
   "cell_type": "code",
   "execution_count": 17,
   "id": "2deecfda-3fa4-4e31-a319-99a9c5a60c0b",
   "metadata": {},
   "outputs": [
    {
     "data": {
      "text/plain": [
       "False"
      ]
     },
     "execution_count": 17,
     "metadata": {},
     "output_type": "execute_result"
    }
   ],
   "source": [
    "soccer_skill>50 and soccer_skill< 90"
   ]
  },
  {
   "cell_type": "code",
   "execution_count": 18,
   "id": "27d5ee0b-53f6-4103-b088-171e56a4b24f",
   "metadata": {},
   "outputs": [
    {
     "data": {
      "text/plain": [
       "False"
      ]
     },
     "execution_count": 18,
     "metadata": {},
     "output_type": "execute_result"
    }
   ],
   "source": [
    "# another way to chain mulitple conditionals\n",
    "90>soccer_skill>50"
   ]
  },
  {
   "cell_type": "code",
   "execution_count": 19,
   "id": "9ccada84-7390-4bc3-a6bd-1d94a2a27c75",
   "metadata": {},
   "outputs": [
    {
     "name": "stdout",
     "output_type": "stream",
     "text": [
      "true\n"
     ]
    }
   ],
   "source": [
    "if (10 or False):\n",
    "    print(\"True\")\n",
    "else:\n",
    "    print(\"False\")\n"
   ]
  },
  {
   "cell_type": "code",
   "execution_count": 22,
   "id": "981e9c94-6bc0-41bb-85df-5a73a7855ef2",
   "metadata": {},
   "outputs": [
    {
     "name": "stdout",
     "output_type": "stream",
     "text": [
      "True\n"
     ]
    }
   ],
   "source": [
    "if (-1):\n",
    "    print(\"True\")\n",
    "else:\n",
    "    print(\"False\")"
   ]
  },
  {
   "cell_type": "code",
   "execution_count": 24,
   "id": "27bb650c-f718-49d4-adab-3302aff41cb8",
   "metadata": {},
   "outputs": [
    {
     "data": {
      "text/plain": [
       "True"
      ]
     },
     "execution_count": 24,
     "metadata": {},
     "output_type": "execute_result"
    }
   ],
   "source": [
    "bool(10 or False)"
   ]
  },
  {
   "cell_type": "code",
   "execution_count": 27,
   "id": "95186d29-bc30-4b06-bcdc-98e7bc72911c",
   "metadata": {},
   "outputs": [
    {
     "name": "stdin",
     "output_type": "stream",
     "text": [
      "Enter name \n"
     ]
    },
    {
     "name": "stdout",
     "output_type": "stream",
     "text": [
      "<invalid_input>\n"
     ]
    }
   ],
   "source": [
    "name = input(\"Enter name\")or\"<invalid_input>\"\n",
    "print(name)"
   ]
  },
  {
   "cell_type": "code",
   "execution_count": 29,
   "id": "3a8080df-5077-4e3d-9b42-a4dd520a16ab",
   "metadata": {},
   "outputs": [
    {
     "name": "stdout",
     "output_type": "stream",
     "text": [
      "10 is < 1000\n",
      "50 is < 1000\n",
      "500 is < 1000\n",
      "total 8500\n"
     ]
    }
   ],
   "source": [
    "# continue\n",
    "nums = [10,50,500,2000, 5000, 1500]\n",
    "\n",
    "#find the sum\n",
    "total = 0\n",
    "for num in nums:\n",
    "    if num < 1000:\n",
    "        print(f\"{num} is < 1000\")\n",
    "        continue\n",
    "    total += num\n",
    "print(f\"total {total}\")\n",
    "        "
   ]
  },
  {
   "cell_type": "code",
   "execution_count": 30,
   "id": "83b0b0bb-ebef-4c10-b608-a4ddd2160b9f",
   "metadata": {},
   "outputs": [
    {
     "name": "stdout",
     "output_type": "stream",
     "text": [
      "bad egg\n",
      "total 60\n"
     ]
    }
   ],
   "source": [
    "# break \n",
    "\n",
    "nums = [10,50,0,2000, 5000, 1500]\n",
    "#find the sum\n",
    "total = 0\n",
    "for num in nums:\n",
    "    if num == 0:\n",
    "        print(f\"bad egg\")\n",
    "        break\n",
    "    total += num\n",
    "print(f\"total {total}\")"
   ]
  },
  {
   "cell_type": "markdown",
   "id": "8598636a-f5f4-4ce4-b678-7c6338f0575c",
   "metadata": {},
   "source": [
    "# while loops"
   ]
  },
  {
   "cell_type": "code",
   "execution_count": 33,
   "id": "343e2d7e-95c7-4080-a3b5-c535cf7d8276",
   "metadata": {},
   "outputs": [
    {
     "name": "stdin",
     "output_type": "stream",
     "text": [
      "Enter name \n",
      "Enter name \n",
      "Enter name \n",
      "Enter name \n",
      "Enter name Andrew\n"
     ]
    },
    {
     "name": "stdout",
     "output_type": "stream",
     "text": [
      "Hello Andrew\n"
     ]
    }
   ],
   "source": [
    "# infinite loop\n",
    "while True:\n",
    "    user_in = input(\"Enter name\")\n",
    "    if user_in:\n",
    "        break\n",
    "        \n",
    "print(f\"Hello {user_in}\")\n"
   ]
  },
  {
   "cell_type": "code",
   "execution_count": null,
   "id": "2ba8e317-89da-400f-9c51-f1b480c58ebc",
   "metadata": {},
   "outputs": [],
   "source": [
    "print(\"hello\")"
   ]
  },
  {
   "cell_type": "code",
   "execution_count": 36,
   "id": "8efa86a9-1850-4c68-a198-4910a62eeeb0",
   "metadata": {},
   "outputs": [
    {
     "name": "stdout",
     "output_type": "stream",
     "text": [
      "before [1, 2, 4, 4, 5, 677, 7, 90]\n",
      "after [1, 2, 4, 5, 677, 7, 90]\n"
     ]
    }
   ],
   "source": [
    "# sets\n",
    "\n",
    "my_list = [1,2,4,4,5,677,7,90]\n",
    "print(\"before\",my_list)\n",
    "\n",
    "my_list = list(set(my_list))\n",
    "print(\"after\",my_list)"
   ]
  },
  {
   "cell_type": "code",
   "execution_count": 37,
   "id": "4db4ea93-3e74-49e4-b6bc-9b429bd78981",
   "metadata": {},
   "outputs": [],
   "source": [
    "myset = set(my_list)"
   ]
  },
  {
   "cell_type": "code",
   "execution_count": 38,
   "id": "372eb108-e1b3-4324-a1da-2bf0073d3d08",
   "metadata": {},
   "outputs": [
    {
     "ename": "TypeError",
     "evalue": "'set' object does not support item assignment",
     "output_type": "error",
     "traceback": [
      "\u001b[1;31m----------------------------------------------\u001b[0m",
      "\u001b[1;31mTypeError\u001b[0m    Traceback (most recent call last)",
      "Cell \u001b[1;32mIn[38], line 1\u001b[0m\n\u001b[1;32m----> 1\u001b[0m myset[\u001b[38;5;241m0\u001b[39m] \u001b[38;5;241m=\u001b[39m \u001b[38;5;241m5\u001b[39m\n",
      "\u001b[1;31mTypeError\u001b[0m: 'set' object does not support item assignment"
     ]
    }
   ],
   "source": [
    "myset[0] = 5\n"
   ]
  },
  {
   "cell_type": "code",
   "execution_count": 40,
   "id": "4d9c5f5f-4f98-4e18-a975-a485903502a2",
   "metadata": {},
   "outputs": [
    {
     "ename": "TypeError",
     "evalue": "'str' object does not support item assignment",
     "output_type": "error",
     "traceback": [
      "\u001b[1;31m----------------------------------------------\u001b[0m",
      "\u001b[1;31mTypeError\u001b[0m    Traceback (most recent call last)",
      "Cell \u001b[1;32mIn[40], line 1\u001b[0m\n\u001b[1;32m----> 1\u001b[0m name[\u001b[38;5;241m0\u001b[39m] \u001b[38;5;241m=\u001b[39m \u001b[38;5;124m'\u001b[39m\u001b[38;5;124mw\u001b[39m\u001b[38;5;124m'\u001b[39m\n",
      "\u001b[1;31mTypeError\u001b[0m: 'str' object does not support item assignment"
     ]
    }
   ],
   "source": [
    "name[0] = 'w'"
   ]
  },
  {
   "cell_type": "code",
   "execution_count": 41,
   "id": "d54ca8e9-466c-4cc7-adee-1bd1ba76905d",
   "metadata": {},
   "outputs": [
    {
     "data": {
      "text/plain": [
       "{'name': 'Andrew', 'major': 'Engineering', 'favorite color': 'red'}"
      ]
     },
     "execution_count": 41,
     "metadata": {},
     "output_type": "execute_result"
    }
   ],
   "source": [
    "my_dict = {'name':'Andrew', 'major':'Engineering','favorite color':'red'}\n",
    "my_dict"
   ]
  },
  {
   "cell_type": "code",
   "execution_count": 42,
   "id": "9b23d1cc-1407-438e-941f-d5154d52cfea",
   "metadata": {},
   "outputs": [
    {
     "name": "stdout",
     "output_type": "stream",
     "text": [
      "name\n",
      "major\n",
      "favorite color\n"
     ]
    }
   ],
   "source": [
    "# keys\n",
    "\n",
    "for key_var in my_dict.keys():\n",
    "    print(key_var)"
   ]
  },
  {
   "cell_type": "code",
   "execution_count": 43,
   "id": "c0e5d1d2-a2b4-4abe-b829-6de6ba85eeb6",
   "metadata": {},
   "outputs": [
    {
     "name": "stdout",
     "output_type": "stream",
     "text": [
      "Andrew\n",
      "Engineering\n",
      "red\n"
     ]
    }
   ],
   "source": [
    "# values\n",
    "for value_var in my_dict.values():\n",
    "    print(value_var)"
   ]
  },
  {
   "cell_type": "code",
   "execution_count": 44,
   "id": "d9d437c9-6495-4ce2-9d26-80fe82b96443",
   "metadata": {},
   "outputs": [
    {
     "name": "stdout",
     "output_type": "stream",
     "text": [
      "name,Andrew\n",
      "major,Engineering\n",
      "favorite color,red\n"
     ]
    }
   ],
   "source": [
    "# acces both\n",
    "\n",
    "for key,item in my_dict.items():\n",
    "    print(f\"{key},{item}\")"
   ]
  },
  {
   "cell_type": "code",
   "execution_count": 45,
   "id": "148d0f24-964a-4366-b58d-e2c2c5ee11f1",
   "metadata": {},
   "outputs": [
    {
     "data": {
      "text/plain": [
       "{'name': 'Andrew',\n",
       " 'major': 'Engineering',\n",
       " 'favorite color': 'red',\n",
       " 'team': 'liverpool'}"
      ]
     },
     "execution_count": 45,
     "metadata": {},
     "output_type": "execute_result"
    }
   ],
   "source": [
    "# update \n",
    "\n",
    "my_dict['team'] = 'liverpool'\n",
    "my_dict"
   ]
  },
  {
   "cell_type": "code",
   "execution_count": 46,
   "id": "a4cb02ee-f7f1-429b-bf10-d75293ee9a25",
   "metadata": {},
   "outputs": [
    {
     "data": {
      "text/plain": [
       "{'name': 'rukangu',\n",
       " 'major': 'Engineering',\n",
       " 'favorite color': 'red',\n",
       " 'team': 'liverpool'}"
      ]
     },
     "execution_count": 46,
     "metadata": {},
     "output_type": "execute_result"
    }
   ],
   "source": [
    "# update \n",
    "my_dict['name'] = 'rukangu'\n",
    "my_dict"
   ]
  },
  {
   "cell_type": "code",
   "execution_count": 47,
   "id": "19fdccf5-336e-42f4-b7f1-dc8a9c9832cf",
   "metadata": {},
   "outputs": [
    {
     "data": {
      "text/plain": [
       "{'name': 'rukangu',\n",
       " 'major': 'Engineering',\n",
       " 'favorite color': 'red',\n",
       " 'team': 'liverpool',\n",
       " 'hometown': 'Nairobi'}"
      ]
     },
     "execution_count": 47,
     "metadata": {},
     "output_type": "execute_result"
    }
   ],
   "source": [
    "# more updating using a dictionary\n",
    "\n",
    "dict1 = {'hometown':'Nairobi'}\n",
    "my_dict.update(dict1)\n",
    "my_dict"
   ]
  },
  {
   "cell_type": "code",
   "execution_count": 48,
   "id": "9bd9587c-8d9e-4293-bebe-ddf536bea176",
   "metadata": {},
   "outputs": [
    {
     "data": {
      "text/plain": [
       "{'name': 'rukangu',\n",
       " 'major': 'Engineering',\n",
       " 'favorite color': 'red',\n",
       " 'team': 'liverpool',\n",
       " 'hometown': 'Nairobi',\n",
       " 'car': 'VW',\n",
       " 'position': 'midfield'}"
      ]
     },
     "execution_count": 48,
     "metadata": {},
     "output_type": "execute_result"
    }
   ],
   "source": [
    "# update using list of tuples\n",
    "\n",
    "list1 = [('car','VW'),('position','midfield')]\n",
    "\n",
    "my_dict.update(list1)\n",
    "my_dict"
   ]
  },
  {
   "cell_type": "markdown",
   "id": "cd4380d6-4b12-4ab3-9d8d-3b483dbb4a31",
   "metadata": {},
   "source": [
    "# info airlines"
   ]
  },
  {
   "cell_type": "code",
   "execution_count": 49,
   "id": "3b6e0ec0-7039-48ee-8e59-8d56c0f6575e",
   "metadata": {},
   "outputs": [
    {
     "name": "stdout",
     "output_type": "stream",
     "text": [
      "welcome to info2000 airlines\n"
     ]
    },
    {
     "name": "stdin",
     "output_type": "stream",
     "text": [
      "where would you like to fly to? (q to quit) Miami\n"
     ]
    },
    {
     "name": "stdout",
     "output_type": "stream",
     "text": [
      "welcome to info2000 airlines\n"
     ]
    },
    {
     "name": "stdin",
     "output_type": "stream",
     "text": [
      "where would you like to fly to? (q to quit) q\n"
     ]
    },
    {
     "name": "stdout",
     "output_type": "stream",
     "text": [
      "Thanks for flying info!\n"
     ]
    }
   ],
   "source": [
    "# user should enter destination\n",
    "# get the cost in dollars to fly to the destination\n",
    "\n",
    "# user should quit \n",
    "# if a destination is not available we add it\n",
    "\n",
    "desitinations = {'Miami':600 , 'Dallas': 853, 'New York': 817}\n",
    "\n",
    "cost_per_mile = 0.5\n",
    "\n",
    "while True:\n",
    "    print(\"welcome to info2000 airlines\")\n",
    "    user_in = input(\"where would you like to fly to? (q to quit)\")\n",
    "    if user_in.casefold() == 'q':\n",
    "        break\n",
    "\n",
    "        \n",
    "print(\"Thanks for flying info!\")"
   ]
  },
  {
   "cell_type": "code",
   "execution_count": 51,
   "id": "5ec6d0a7-1f66-45e8-9702-9524bee4d1a1",
   "metadata": {},
   "outputs": [
    {
     "name": "stdout",
     "output_type": "stream",
     "text": [
      "welcome to info2000 airlines\n"
     ]
    },
    {
     "name": "stdin",
     "output_type": "stream",
     "text": [
      "where would you like to fly to? (q to quit) Miami\n"
     ]
    },
    {
     "name": "stdout",
     "output_type": "stream",
     "text": [
      "Your flight to Miami will cost $300.0\n",
      "welcome to info2000 airlines\n"
     ]
    },
    {
     "name": "stdin",
     "output_type": "stream",
     "text": [
      "where would you like to fly to? (q to quit) New York\n"
     ]
    },
    {
     "name": "stdout",
     "output_type": "stream",
     "text": [
      "Your flight to New York will cost $408.5\n",
      "welcome to info2000 airlines\n"
     ]
    },
    {
     "name": "stdin",
     "output_type": "stream",
     "text": [
      "where would you like to fly to? (q to quit) Nairobi\n"
     ]
    },
    {
     "name": "stdout",
     "output_type": "stream",
     "text": [
      "sorry destination not available yet\n",
      "welcome to info2000 airlines\n"
     ]
    },
    {
     "name": "stdin",
     "output_type": "stream",
     "text": [
      "where would you like to fly to? (q to quit) q\n"
     ]
    },
    {
     "name": "stdout",
     "output_type": "stream",
     "text": [
      "Thanks for flying info!\n"
     ]
    }
   ],
   "source": [
    "# user should enter destination\n",
    "# get the cost in dollars to fly to the destination\n",
    "\n",
    "# user should quit \n",
    "# if a destination is not available we add it\n",
    "\n",
    "desitinations = {'Miami':600 , 'Dallas': 853, 'New York': 817}\n",
    "\n",
    "cost_per_mile = 0.5\n",
    "\n",
    "while True:\n",
    "    print(\"welcome to info2000 airlines\")\n",
    "    user_in = input(\"where would you like to fly to? (q to quit)\")\n",
    "    if user_in.casefold() == 'q':\n",
    "        break\n",
    "    # get the destination from the dict\n",
    "    if user_in in desitinations.keys():\n",
    "        # calculate the mileage\n",
    "        # print the cost\n",
    "        print(f\"Your flight to {user_in} will cost ${desitinations[user_in] * cost_per_mile}\")\n",
    "    else:\n",
    "        print(\"sorry destination not available yet\")\n",
    "        \n",
    "print(\"Thanks for flying info!\")"
   ]
  },
  {
   "cell_type": "markdown",
   "id": "b9fc29bd-9a50-4e2d-93a7-fbea01a41a30",
   "metadata": {},
   "source": [
    "## Adding destinations\n"
   ]
  },
  {
   "cell_type": "code",
   "execution_count": 52,
   "id": "d51d0a1d-49e5-4c44-9624-2d123cde1f8a",
   "metadata": {},
   "outputs": [
    {
     "name": "stdout",
     "output_type": "stream",
     "text": [
      "welcome to info2000 airlines\n"
     ]
    },
    {
     "name": "stdin",
     "output_type": "stream",
     "text": [
      "where would you like to fly to? (q to quit) Miami\n"
     ]
    },
    {
     "name": "stdout",
     "output_type": "stream",
     "text": [
      "Your flight to Miami will cost $300.0\n",
      "welcome to info2000 airlines\n"
     ]
    },
    {
     "name": "stdin",
     "output_type": "stream",
     "text": [
      "where would you like to fly to? (q to quit) Nairobi\n",
      "distance to Nairobi? 8000\n"
     ]
    },
    {
     "name": "stdout",
     "output_type": "stream",
     "text": [
      "Your flight to Nairobi will cost $4000.0\n",
      "welcome to info2000 airlines\n"
     ]
    },
    {
     "name": "stdin",
     "output_type": "stream",
     "text": [
      "where would you like to fly to? (q to quit) Nairobi\n"
     ]
    },
    {
     "name": "stdout",
     "output_type": "stream",
     "text": [
      "Your flight to Nairobi will cost $4000.0\n",
      "welcome to info2000 airlines\n"
     ]
    },
    {
     "name": "stdin",
     "output_type": "stream",
     "text": [
      "where would you like to fly to? (q to quit) q\n"
     ]
    },
    {
     "name": "stdout",
     "output_type": "stream",
     "text": [
      "Thanks for flying info!\n"
     ]
    }
   ],
   "source": [
    "# user should enter destination\n",
    "# get the cost in dollars to fly to the destination\n",
    "\n",
    "# user should quit \n",
    "# if a destination is not available we add it\n",
    "\n",
    "desitinations = {'Miami':600 , 'Dallas': 853, 'New York': 817}\n",
    "\n",
    "cost_per_mile = 0.5\n",
    "\n",
    "while True:\n",
    "    print(\"welcome to info2000 airlines\")\n",
    "    user_in = input(\"where would you like to fly to? (q to quit)\")\n",
    "    if user_in.casefold() == 'q':\n",
    "        break\n",
    "    # get the destination from the dict\n",
    "    if user_in in desitinations.keys():\n",
    "        # calculate the mileage\n",
    "        # print the cost\n",
    "        print(f\"Your flight to {user_in} will cost ${desitinations[user_in] * cost_per_mile}\")\n",
    "    else:\n",
    "        distance = float(input(f\"distance to {user_in}?\"))\n",
    "        desitinations[user_in] = distance\n",
    "        print(f\"Your flight to {user_in} will cost ${desitinations[user_in] * cost_per_mile}\")\n",
    "        \n",
    "                         \n",
    "        \n",
    "print(\"Thanks for flying info!\")"
   ]
  },
  {
   "cell_type": "code",
   "execution_count": 55,
   "id": "b16f6334-5cc7-4331-a1b8-9e1859284328",
   "metadata": {},
   "outputs": [
    {
     "name": "stdout",
     "output_type": "stream",
     "text": [
      "{'miami': 600, 'dallas': 853, 'new york': 817}\n",
      "welcome to info2000 airlines\n"
     ]
    },
    {
     "name": "stdin",
     "output_type": "stream",
     "text": [
      "where would you like to fly to? (q to quit) NeW YOrk\n"
     ]
    },
    {
     "name": "stdout",
     "output_type": "stream",
     "text": [
      "Your flight to new york will cost $408.5\n",
      "welcome to info2000 airlines\n"
     ]
    },
    {
     "name": "stdin",
     "output_type": "stream",
     "text": [
      "where would you like to fly to? (q to quit) q\n"
     ]
    },
    {
     "name": "stdout",
     "output_type": "stream",
     "text": [
      "Thanks for flying info!\n"
     ]
    }
   ],
   "source": [
    "# user should enter destination\n",
    "# get the cost in dollars to fly to the destination\n",
    "\n",
    "# user should quit \n",
    "# if a destination is not available we add it\n",
    "\n",
    "desitinations = {'Miami':600 , 'Dallas': 853, 'New York': 817}\n",
    "updated_destinations = {}\n",
    "# making sure that the destinations are casefolded for smooth operation\n",
    "for key,value in desitinations.items():\n",
    "    updated_destinations[key.casefold()] = value\n",
    "\n",
    "print(updated_destinations)\n",
    "cost_per_mile = 0.5\n",
    "\n",
    "while True:\n",
    "    print(\"welcome to info2000 airlines\")\n",
    "    user_in = input(\"where would you like to fly to? (q to quit)\").casefold()\n",
    "    if user_in.casefold() == 'q':\n",
    "        break\n",
    "    # get the destination from the dict\n",
    "    if user_in in updated_destinations.keys():\n",
    "        # calculate the mileage\n",
    "        # print the cost\n",
    "        print(f\"Your flight to {user_in} will cost ${updated_destinations[user_in] * cost_per_mile}\")\n",
    "    else:\n",
    "        distance = float(input(f\"distance to {user_in}?\"))\n",
    "        updated_destinations[user_in] = distance\n",
    "        print(f\"Your flight to {user_in} will cost ${updated_destinations[user_in] * cost_per_mile}\")\n",
    "        \n",
    "                         \n",
    "        \n",
    "print(\"Thanks for flying info!\")"
   ]
  },
  {
   "cell_type": "code",
   "execution_count": null,
   "id": "678b6c39-2a6d-441c-bca9-54f772d6c974",
   "metadata": {},
   "outputs": [],
   "source": []
  }
 ],
 "metadata": {
  "kernelspec": {
   "display_name": "info2000",
   "language": "python",
   "name": "info2000"
  },
  "language_info": {
   "codemirror_mode": {
    "name": "ipython",
    "version": 3
   },
   "file_extension": ".py",
   "mimetype": "text/x-python",
   "name": "python",
   "nbconvert_exporter": "python",
   "pygments_lexer": "ipython3",
   "version": "3.9.18"
  }
 },
 "nbformat": 4,
 "nbformat_minor": 5
}
