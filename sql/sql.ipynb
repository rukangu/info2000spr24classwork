{
 "cells": [
  {
   "cell_type": "code",
   "execution_count": 1,
   "metadata": {},
   "outputs": [],
   "source": [
    "import sqlite3\n",
    "import pandas as pd\n"
   ]
  },
  {
   "cell_type": "code",
   "execution_count": 2,
   "metadata": {},
   "outputs": [],
   "source": [
    "#intialize the database from a script\n",
    "DB_FILE = 'student_db'\n",
    "initscript = 'initdb.sql'\n",
    "with sqlite3.connect(DB_FILE) as con:\n",
    "    with open(initscript,'r') as f:\n",
    "        sql_commands = f.read()\n",
    "        con.executescript(sql_commands)"
   ]
  },
  {
   "cell_type": "code",
   "execution_count": 3,
   "metadata": {},
   "outputs": [
    {
     "data": {
      "text/plain": [
       "<sqlite3.Cursor at 0x1663af23d50>"
      ]
     },
     "execution_count": 3,
     "metadata": {},
     "output_type": "execute_result"
    }
   ],
   "source": [
    "# drop table \n",
    "con.execute('DROP TABLE IF EXISTS student')\n"
   ]
  },
  {
   "cell_type": "code",
   "execution_count": 4,
   "metadata": {},
   "outputs": [
    {
     "ename": "OperationalError",
     "evalue": "no such table: student",
     "output_type": "error",
     "traceback": [
      "\u001b[1;31m---------------------------------------------------------------------------\u001b[0m",
      "\u001b[1;31mOperationalError\u001b[0m                          Traceback (most recent call last)",
      "\u001b[1;32md:\\INFO2000\\info2000classwork\\sql\\sql.ipynb Cell 4\u001b[0m line \u001b[0;36m1\n\u001b[1;32m----> <a href='vscode-notebook-cell:/d%3A/INFO2000/info2000classwork/sql/sql.ipynb#W3sZmlsZQ%3D%3D?line=0'>1</a>\u001b[0m con\u001b[39m.\u001b[39;49mexecute(\u001b[39m'\u001b[39;49m\u001b[39mSELECT * FROM student\u001b[39;49m\u001b[39m'\u001b[39;49m)\n",
      "\u001b[1;31mOperationalError\u001b[0m: no such table: student"
     ]
    }
   ],
   "source": [
    "con.execute('SELECT * FROM student')"
   ]
  },
  {
   "cell_type": "code",
   "execution_count": 5,
   "metadata": {},
   "outputs": [],
   "source": [
    "# create the table again\n",
    "with sqlite3.connect(DB_FILE) as con:\n",
    "    con.execute('''CREATE TABLE IF NOT EXISTS student( \n",
    "    first_name TEXT NOT NULL,\n",
    "    last_name TEXT NOT NULL, \n",
    "    age INT NOT NULL,\n",
    "    id INT PRIMARY KEY\n",
    "    );\n",
    "    ''')\n",
    "    con.commit() #confirm that the command has ran"
   ]
  },
  {
   "cell_type": "code",
   "execution_count": 6,
   "metadata": {},
   "outputs": [],
   "source": [
    "# insert values\n",
    "with sqlite3.connect(DB_FILE) as con:\n",
    "    to_insert = [(\"Andrew\",\"Rukangu\",50,5),\n",
    "                    (\"Marie\",\"Curie\",100,6),\n",
    "                    (\"Spongebob\", \"Squarepants\",50,7),\n",
    "                    (\"Tom\", \"Jerry\",60,8)\n",
    "                    ]\n",
    "    con.executemany(\"INSERT INTO student VALUES (?,?,?,?)\", to_insert)"
   ]
  },
  {
   "cell_type": "code",
   "execution_count": 8,
   "metadata": {},
   "outputs": [
    {
     "name": "stdout",
     "output_type": "stream",
     "text": [
      "[('Andrew', 'Rukangu', 50, 5), ('Marie', 'Curie', 100, 6), ('Spongebob', 'Squarepants', 50, 7), ('Tom', 'Jerry', 60, 8)]\n"
     ]
    }
   ],
   "source": [
    "with sqlite3.connect(DB_FILE) as con:\n",
    "    data = con.execute('SELECT * FROM student').fetchall()\n",
    "    print(data)"
   ]
  },
  {
   "cell_type": "code",
   "execution_count": 9,
   "metadata": {},
   "outputs": [],
   "source": [
    "#insert one record\n",
    "with sqlite3.connect(DB_FILE) as con:\n",
    "    con.execute(\"INSERT INTO student VALUES(?,?,?,?)\", ('Albert', 'Einstein',100,9))"
   ]
  },
  {
   "cell_type": "code",
   "execution_count": 10,
   "metadata": {},
   "outputs": [
    {
     "name": "stdout",
     "output_type": "stream",
     "text": [
      "[('Andrew', 'Rukangu', 50, 5), ('Marie', 'Curie', 100, 6), ('Spongebob', 'Squarepants', 50, 7), ('Tom', 'Jerry', 60, 8), ('Albert', 'Einstein', 100, 9)]\n"
     ]
    }
   ],
   "source": [
    "with sqlite3.connect(DB_FILE) as con:      \n",
    "    data = con.execute('SELECT * FROM student').fetchall()\n",
    "    print(data)"
   ]
  },
  {
   "cell_type": "code",
   "execution_count": 11,
   "metadata": {},
   "outputs": [
    {
     "name": "stdout",
     "output_type": "stream",
     "text": [
      "[('Marie', 'Curie', 100, 6), ('Tom', 'Jerry', 60, 8), ('Albert', 'Einstein', 100, 9)]\n"
     ]
    }
   ],
   "source": [
    "# select based on condition: age > 50\n",
    "with sqlite3.connect(DB_FILE) as con:\n",
    "    data=con.execute('SELECT * FROM student WHERE age>50').fetchall()\n",
    "    print(data)"
   ]
  },
  {
   "cell_type": "code",
   "execution_count": 12,
   "metadata": {},
   "outputs": [
    {
     "data": {
      "text/html": [
       "<div>\n",
       "<style scoped>\n",
       "    .dataframe tbody tr th:only-of-type {\n",
       "        vertical-align: middle;\n",
       "    }\n",
       "\n",
       "    .dataframe tbody tr th {\n",
       "        vertical-align: top;\n",
       "    }\n",
       "\n",
       "    .dataframe thead th {\n",
       "        text-align: right;\n",
       "    }\n",
       "</style>\n",
       "<table border=\"1\" class=\"dataframe\">\n",
       "  <thead>\n",
       "    <tr style=\"text-align: right;\">\n",
       "      <th></th>\n",
       "      <th>first_name</th>\n",
       "      <th>last_name</th>\n",
       "      <th>age</th>\n",
       "      <th>id</th>\n",
       "    </tr>\n",
       "  </thead>\n",
       "  <tbody>\n",
       "    <tr>\n",
       "      <th>0</th>\n",
       "      <td>Andrew</td>\n",
       "      <td>Rukangu</td>\n",
       "      <td>50</td>\n",
       "      <td>5</td>\n",
       "    </tr>\n",
       "    <tr>\n",
       "      <th>1</th>\n",
       "      <td>Marie</td>\n",
       "      <td>Curie</td>\n",
       "      <td>100</td>\n",
       "      <td>6</td>\n",
       "    </tr>\n",
       "    <tr>\n",
       "      <th>2</th>\n",
       "      <td>Spongebob</td>\n",
       "      <td>Squarepants</td>\n",
       "      <td>50</td>\n",
       "      <td>7</td>\n",
       "    </tr>\n",
       "    <tr>\n",
       "      <th>3</th>\n",
       "      <td>Tom</td>\n",
       "      <td>Jerry</td>\n",
       "      <td>60</td>\n",
       "      <td>8</td>\n",
       "    </tr>\n",
       "    <tr>\n",
       "      <th>4</th>\n",
       "      <td>Albert</td>\n",
       "      <td>Einstein</td>\n",
       "      <td>100</td>\n",
       "      <td>9</td>\n",
       "    </tr>\n",
       "  </tbody>\n",
       "</table>\n",
       "</div>"
      ],
      "text/plain": [
       "  first_name    last_name  age  id\n",
       "0     Andrew      Rukangu   50   5\n",
       "1      Marie        Curie  100   6\n",
       "2  Spongebob  Squarepants   50   7\n",
       "3        Tom        Jerry   60   8\n",
       "4     Albert     Einstein  100   9"
      ]
     },
     "execution_count": 12,
     "metadata": {},
     "output_type": "execute_result"
    }
   ],
   "source": [
    "# read data into pandas df\n",
    "with sqlite3.connect(DB_FILE) as con:\n",
    "    df=pd.read_sql('SELECT * FROM student', con)\n",
    "    df.head()\n",
    "df"
   ]
  },
  {
   "cell_type": "code",
   "execution_count": 13,
   "metadata": {},
   "outputs": [
    {
     "data": {
      "text/html": [
       "<div>\n",
       "<style scoped>\n",
       "    .dataframe tbody tr th:only-of-type {\n",
       "        vertical-align: middle;\n",
       "    }\n",
       "\n",
       "    .dataframe tbody tr th {\n",
       "        vertical-align: top;\n",
       "    }\n",
       "\n",
       "    .dataframe thead th {\n",
       "        text-align: right;\n",
       "    }\n",
       "</style>\n",
       "<table border=\"1\" class=\"dataframe\">\n",
       "  <thead>\n",
       "    <tr style=\"text-align: right;\">\n",
       "      <th></th>\n",
       "      <th>first_name</th>\n",
       "      <th>last_name</th>\n",
       "      <th>age</th>\n",
       "      <th>id</th>\n",
       "    </tr>\n",
       "  </thead>\n",
       "  <tbody>\n",
       "    <tr>\n",
       "      <th>0</th>\n",
       "      <td>Andrew</td>\n",
       "      <td>Rukangu</td>\n",
       "      <td>50</td>\n",
       "      <td>5</td>\n",
       "    </tr>\n",
       "    <tr>\n",
       "      <th>1</th>\n",
       "      <td>Marie</td>\n",
       "      <td>Curie</td>\n",
       "      <td>100</td>\n",
       "      <td>6</td>\n",
       "    </tr>\n",
       "    <tr>\n",
       "      <th>2</th>\n",
       "      <td>Spongebob</td>\n",
       "      <td>Squarepants</td>\n",
       "      <td>50</td>\n",
       "      <td>7</td>\n",
       "    </tr>\n",
       "    <tr>\n",
       "      <th>3</th>\n",
       "      <td>Tom</td>\n",
       "      <td>Jerry</td>\n",
       "      <td>60</td>\n",
       "      <td>8</td>\n",
       "    </tr>\n",
       "    <tr>\n",
       "      <th>4</th>\n",
       "      <td>Albert</td>\n",
       "      <td>Einstein</td>\n",
       "      <td>100</td>\n",
       "      <td>9</td>\n",
       "    </tr>\n",
       "  </tbody>\n",
       "</table>\n",
       "</div>"
      ],
      "text/plain": [
       "  first_name    last_name  age  id\n",
       "0     Andrew      Rukangu   50   5\n",
       "1      Marie        Curie  100   6\n",
       "2  Spongebob  Squarepants   50   7\n",
       "3        Tom        Jerry   60   8\n",
       "4     Albert     Einstein  100   9"
      ]
     },
     "metadata": {},
     "output_type": "display_data"
    }
   ],
   "source": [
    "with sqlite3.connect(DB_FILE) as con:\n",
    "    df2 = pd.read_sql(\"SELECT * FROM student \",con)\n",
    "    display(df2)"
   ]
  },
  {
   "cell_type": "code",
   "execution_count": 14,
   "metadata": {},
   "outputs": [
    {
     "data": {
      "text/html": [
       "<div>\n",
       "<style scoped>\n",
       "    .dataframe tbody tr th:only-of-type {\n",
       "        vertical-align: middle;\n",
       "    }\n",
       "\n",
       "    .dataframe tbody tr th {\n",
       "        vertical-align: top;\n",
       "    }\n",
       "\n",
       "    .dataframe thead th {\n",
       "        text-align: right;\n",
       "    }\n",
       "</style>\n",
       "<table border=\"1\" class=\"dataframe\">\n",
       "  <thead>\n",
       "    <tr style=\"text-align: right;\">\n",
       "      <th></th>\n",
       "      <th>first_name</th>\n",
       "      <th>last_name</th>\n",
       "      <th>age</th>\n",
       "      <th>id</th>\n",
       "    </tr>\n",
       "  </thead>\n",
       "  <tbody>\n",
       "    <tr>\n",
       "      <th>0</th>\n",
       "      <td>Andrew</td>\n",
       "      <td>Rukangu</td>\n",
       "      <td>50</td>\n",
       "      <td>5</td>\n",
       "    </tr>\n",
       "  </tbody>\n",
       "</table>\n",
       "</div>"
      ],
      "text/plain": [
       "  first_name last_name  age  id\n",
       "0     Andrew   Rukangu   50   5"
      ]
     },
     "metadata": {},
     "output_type": "display_data"
    }
   ],
   "source": [
    "with sqlite3.connect(DB_FILE) as con:\n",
    "    df2 = pd.read_sql(\"SELECT * FROM student WHERE ROWID=1\",con)\n",
    "    display(df2)\n"
   ]
  },
  {
   "cell_type": "code",
   "execution_count": 15,
   "metadata": {},
   "outputs": [
    {
     "data": {
      "text/html": [
       "<div>\n",
       "<style scoped>\n",
       "    .dataframe tbody tr th:only-of-type {\n",
       "        vertical-align: middle;\n",
       "    }\n",
       "\n",
       "    .dataframe tbody tr th {\n",
       "        vertical-align: top;\n",
       "    }\n",
       "\n",
       "    .dataframe thead th {\n",
       "        text-align: right;\n",
       "    }\n",
       "</style>\n",
       "<table border=\"1\" class=\"dataframe\">\n",
       "  <thead>\n",
       "    <tr style=\"text-align: right;\">\n",
       "      <th></th>\n",
       "      <th>first_name</th>\n",
       "      <th>last_name</th>\n",
       "      <th>age</th>\n",
       "      <th>id</th>\n",
       "    </tr>\n",
       "  </thead>\n",
       "  <tbody>\n",
       "    <tr>\n",
       "      <th>0</th>\n",
       "      <td>Marie</td>\n",
       "      <td>Curie</td>\n",
       "      <td>100</td>\n",
       "      <td>6</td>\n",
       "    </tr>\n",
       "  </tbody>\n",
       "</table>\n",
       "</div>"
      ],
      "text/plain": [
       "  first_name last_name  age  id\n",
       "0      Marie     Curie  100   6"
      ]
     },
     "metadata": {},
     "output_type": "display_data"
    }
   ],
   "source": [
    "with sqlite3.connect(DB_FILE) as con:\n",
    "    df2 = pd.read_sql(\"SELECT * FROM student WHERE ROWID=2\",con)\n",
    "    display(df2)"
   ]
  },
  {
   "cell_type": "code",
   "execution_count": 26,
   "metadata": {},
   "outputs": [
    {
     "data": {
      "text/html": [
       "<div>\n",
       "<style scoped>\n",
       "    .dataframe tbody tr th:only-of-type {\n",
       "        vertical-align: middle;\n",
       "    }\n",
       "\n",
       "    .dataframe tbody tr th {\n",
       "        vertical-align: top;\n",
       "    }\n",
       "\n",
       "    .dataframe thead th {\n",
       "        text-align: right;\n",
       "    }\n",
       "</style>\n",
       "<table border=\"1\" class=\"dataframe\">\n",
       "  <thead>\n",
       "    <tr style=\"text-align: right;\">\n",
       "      <th></th>\n",
       "      <th>first_name</th>\n",
       "      <th>last_name</th>\n",
       "      <th>age</th>\n",
       "      <th>id</th>\n",
       "    </tr>\n",
       "  </thead>\n",
       "  <tbody>\n",
       "    <tr>\n",
       "      <th>0</th>\n",
       "      <td>Marie</td>\n",
       "      <td>Curie</td>\n",
       "      <td>100</td>\n",
       "      <td>6</td>\n",
       "    </tr>\n",
       "  </tbody>\n",
       "</table>\n",
       "</div>"
      ],
      "text/plain": [
       "  first_name last_name  age  id\n",
       "0      Marie     Curie  100   6"
      ]
     },
     "metadata": {},
     "output_type": "display_data"
    }
   ],
   "source": [
    "with sqlite3.connect(DB_FILE) as con:\n",
    "    df2 = pd.read_sql(\"SELECT * FROM student WHERE ROWID=2\",con)\n",
    "    display(df2)"
   ]
  },
  {
   "cell_type": "code",
   "execution_count": 27,
   "metadata": {},
   "outputs": [
    {
     "data": {
      "text/html": [
       "<div>\n",
       "<style scoped>\n",
       "    .dataframe tbody tr th:only-of-type {\n",
       "        vertical-align: middle;\n",
       "    }\n",
       "\n",
       "    .dataframe tbody tr th {\n",
       "        vertical-align: top;\n",
       "    }\n",
       "\n",
       "    .dataframe thead th {\n",
       "        text-align: right;\n",
       "    }\n",
       "</style>\n",
       "<table border=\"1\" class=\"dataframe\">\n",
       "  <thead>\n",
       "    <tr style=\"text-align: right;\">\n",
       "      <th></th>\n",
       "      <th>first_name</th>\n",
       "      <th>last_name</th>\n",
       "      <th>age</th>\n",
       "      <th>id</th>\n",
       "    </tr>\n",
       "  </thead>\n",
       "  <tbody>\n",
       "    <tr>\n",
       "      <th>0</th>\n",
       "      <td>Marie</td>\n",
       "      <td>Curie</td>\n",
       "      <td>100</td>\n",
       "      <td>6</td>\n",
       "    </tr>\n",
       "  </tbody>\n",
       "</table>\n",
       "</div>"
      ],
      "text/plain": [
       "  first_name last_name  age  id\n",
       "0      Marie     Curie  100   6"
      ]
     },
     "metadata": {},
     "output_type": "display_data"
    }
   ],
   "source": [
    "with sqlite3.connect(DB_FILE) as con:\n",
    "    command = \"SELECT * FROM student WHERE ROWID=?\"\n",
    "    params = (2,)\n",
    "    df2 = pd.read_sql(command,con,params=params)\n",
    "    display(df2)"
   ]
  },
  {
   "cell_type": "code",
   "execution_count": 21,
   "metadata": {},
   "outputs": [
    {
     "name": "stdout",
     "output_type": "stream",
     "text": [
      "Before deletion\n"
     ]
    },
    {
     "data": {
      "text/html": [
       "<div>\n",
       "<style scoped>\n",
       "    .dataframe tbody tr th:only-of-type {\n",
       "        vertical-align: middle;\n",
       "    }\n",
       "\n",
       "    .dataframe tbody tr th {\n",
       "        vertical-align: top;\n",
       "    }\n",
       "\n",
       "    .dataframe thead th {\n",
       "        text-align: right;\n",
       "    }\n",
       "</style>\n",
       "<table border=\"1\" class=\"dataframe\">\n",
       "  <thead>\n",
       "    <tr style=\"text-align: right;\">\n",
       "      <th></th>\n",
       "      <th>first_name</th>\n",
       "      <th>last_name</th>\n",
       "      <th>age</th>\n",
       "      <th>id</th>\n",
       "    </tr>\n",
       "  </thead>\n",
       "  <tbody>\n",
       "    <tr>\n",
       "      <th>0</th>\n",
       "      <td>Andrew</td>\n",
       "      <td>Rukangu</td>\n",
       "      <td>50</td>\n",
       "      <td>5</td>\n",
       "    </tr>\n",
       "    <tr>\n",
       "      <th>1</th>\n",
       "      <td>Marie</td>\n",
       "      <td>Curie</td>\n",
       "      <td>100</td>\n",
       "      <td>6</td>\n",
       "    </tr>\n",
       "    <tr>\n",
       "      <th>2</th>\n",
       "      <td>Spongebob</td>\n",
       "      <td>Squarepants</td>\n",
       "      <td>50</td>\n",
       "      <td>7</td>\n",
       "    </tr>\n",
       "    <tr>\n",
       "      <th>3</th>\n",
       "      <td>Tom</td>\n",
       "      <td>Jerry</td>\n",
       "      <td>60</td>\n",
       "      <td>8</td>\n",
       "    </tr>\n",
       "    <tr>\n",
       "      <th>4</th>\n",
       "      <td>Albert</td>\n",
       "      <td>Einstein</td>\n",
       "      <td>100</td>\n",
       "      <td>9</td>\n",
       "    </tr>\n",
       "  </tbody>\n",
       "</table>\n",
       "</div>"
      ],
      "text/plain": [
       "  first_name    last_name  age  id\n",
       "0     Andrew      Rukangu   50   5\n",
       "1      Marie        Curie  100   6\n",
       "2  Spongebob  Squarepants   50   7\n",
       "3        Tom        Jerry   60   8\n",
       "4     Albert     Einstein  100   9"
      ]
     },
     "metadata": {},
     "output_type": "display_data"
    },
    {
     "name": "stdout",
     "output_type": "stream",
     "text": [
      "After deletion\n"
     ]
    },
    {
     "data": {
      "text/html": [
       "<div>\n",
       "<style scoped>\n",
       "    .dataframe tbody tr th:only-of-type {\n",
       "        vertical-align: middle;\n",
       "    }\n",
       "\n",
       "    .dataframe tbody tr th {\n",
       "        vertical-align: top;\n",
       "    }\n",
       "\n",
       "    .dataframe thead th {\n",
       "        text-align: right;\n",
       "    }\n",
       "</style>\n",
       "<table border=\"1\" class=\"dataframe\">\n",
       "  <thead>\n",
       "    <tr style=\"text-align: right;\">\n",
       "      <th></th>\n",
       "      <th>first_name</th>\n",
       "      <th>last_name</th>\n",
       "      <th>age</th>\n",
       "      <th>id</th>\n",
       "    </tr>\n",
       "  </thead>\n",
       "  <tbody>\n",
       "    <tr>\n",
       "      <th>0</th>\n",
       "      <td>Andrew</td>\n",
       "      <td>Rukangu</td>\n",
       "      <td>50</td>\n",
       "      <td>5</td>\n",
       "    </tr>\n",
       "    <tr>\n",
       "      <th>1</th>\n",
       "      <td>Marie</td>\n",
       "      <td>Curie</td>\n",
       "      <td>100</td>\n",
       "      <td>6</td>\n",
       "    </tr>\n",
       "    <tr>\n",
       "      <th>2</th>\n",
       "      <td>Tom</td>\n",
       "      <td>Jerry</td>\n",
       "      <td>60</td>\n",
       "      <td>8</td>\n",
       "    </tr>\n",
       "    <tr>\n",
       "      <th>3</th>\n",
       "      <td>Albert</td>\n",
       "      <td>Einstein</td>\n",
       "      <td>100</td>\n",
       "      <td>9</td>\n",
       "    </tr>\n",
       "  </tbody>\n",
       "</table>\n",
       "</div>"
      ],
      "text/plain": [
       "  first_name last_name  age  id\n",
       "0     Andrew   Rukangu   50   5\n",
       "1      Marie     Curie  100   6\n",
       "2        Tom     Jerry   60   8\n",
       "3     Albert  Einstein  100   9"
      ]
     },
     "metadata": {},
     "output_type": "display_data"
    }
   ],
   "source": [
    "#let's delete spongebob\n",
    "\n",
    "with sqlite3.connect(DB_FILE) as con:\n",
    "    print(\"Before deletion\")\n",
    "    df = pd.read_sql(\"SELECT * FROM student \",con)\n",
    "    display(df)\n",
    "    command = f\"DELETE FROM student WHERE ROWID=?\"\n",
    "    params = (3,)\n",
    "    con.execute(command,params,)\n",
    "    print(\"After deletion\")\n",
    "    df2 = pd.read_sql(\"SELECT * FROM student \",con)\n",
    "    display(df2)"
   ]
  },
  {
   "cell_type": "code",
   "execution_count": null,
   "metadata": {},
   "outputs": [],
   "source": []
  },
  {
   "cell_type": "code",
   "execution_count": 46,
   "metadata": {},
   "outputs": [
    {
     "data": {
      "text/plain": [
       "<sqlite3.Cursor at 0x184efd5b2d0>"
      ]
     },
     "execution_count": 46,
     "metadata": {},
     "output_type": "execute_result"
    }
   ],
   "source": [
    "# rename table\n",
    "command = '''ALTER TABLE student RENAME TO students;'''\n",
    "con.execute(command)"
   ]
  },
  {
   "cell_type": "code",
   "execution_count": 16,
   "metadata": {},
   "outputs": [
    {
     "data": {
      "text/plain": [
       "rec.array([(0, 'Andrew', 'Rukangu',  50, 5),\n",
       "           (1, 'Marie', 'Curie', 100, 6),\n",
       "           (2, 'Spongebob', 'Squarepants',  50, 7),\n",
       "           (3, 'Tom', 'Jerry',  60, 8), (4, 'Albert', 'Einstein', 100, 9)],\n",
       "          dtype=[('index', '<i8'), ('first_name', 'O'), ('last_name', 'O'), ('age', '<i8'), ('id', '<i8')])"
      ]
     },
     "execution_count": 16,
     "metadata": {},
     "output_type": "execute_result"
    }
   ],
   "source": [
    "items = df.to_records()\n",
    "items"
   ]
  },
  {
   "cell_type": "code",
   "execution_count": 17,
   "metadata": {},
   "outputs": [
    {
     "name": "stdout",
     "output_type": "stream",
     "text": [
      "0 Andrew\n",
      "1 Marie\n",
      "2 Spongebob\n",
      "3 Tom\n",
      "4 Albert\n"
     ]
    }
   ],
   "source": [
    "for item in items:\n",
    "    print(item.index, item.first_name)"
   ]
  },
  {
   "cell_type": "code",
   "execution_count": null,
   "metadata": {},
   "outputs": [],
   "source": [
    "# select specific columns \n",
    "command = '''SELECT first_name, last_name FROM students'''\n",
    "con.execute(command).fetchall()"
   ]
  },
  {
   "cell_type": "code",
   "execution_count": null,
   "metadata": {},
   "outputs": [],
   "source": []
  },
  {
   "cell_type": "code",
   "execution_count": 45,
   "metadata": {},
   "outputs": [
    {
     "ename": "OperationalError",
     "evalue": "no such table: students",
     "output_type": "error",
     "traceback": [
      "\u001b[1;31m---------------------------------------------------------------------------\u001b[0m",
      "\u001b[1;31mOperationalError\u001b[0m                          Traceback (most recent call last)",
      "\u001b[1;32md:\\INFO2000\\info2000classwork\\sql\\sql.ipynb Cell 19\u001b[0m line \u001b[0;36m4\n\u001b[0;32m      <a href='vscode-notebook-cell:/d%3A/INFO2000/info2000classwork/sql/sql.ipynb#X20sZmlsZQ%3D%3D?line=0'>1</a>\u001b[0m \u001b[39m# search using LIKE\u001b[39;00m\n\u001b[0;32m      <a href='vscode-notebook-cell:/d%3A/INFO2000/info2000classwork/sql/sql.ipynb#X20sZmlsZQ%3D%3D?line=2'>3</a>\u001b[0m command \u001b[39m=\u001b[39m \u001b[39m'''\u001b[39m\u001b[39mSELECT * FROM students WHERE first_name LIKE \u001b[39m\u001b[39m\"\u001b[39m\u001b[39ma\u001b[39m\u001b[39m%\u001b[39m\u001b[39m\"\u001b[39m\u001b[39m'''\u001b[39m\n\u001b[1;32m----> <a href='vscode-notebook-cell:/d%3A/INFO2000/info2000classwork/sql/sql.ipynb#X20sZmlsZQ%3D%3D?line=3'>4</a>\u001b[0m con\u001b[39m.\u001b[39;49mexecute(command)\u001b[39m.\u001b[39mfetchall()\n",
      "\u001b[1;31mOperationalError\u001b[0m: no such table: students"
     ]
    }
   ],
   "source": [
    "# search using LIKE\n",
    "\n",
    "command = '''SELECT * FROM students WHERE first_name LIKE \"a%\"'''\n",
    "con.execute(command).fetchall()"
   ]
  },
  {
   "cell_type": "markdown",
   "metadata": {},
   "source": [
    "- %\tRepresents zero or more characters\n",
    "- _\tRepresents a single character\n",
    "- []\tRepresents any single character within the brackets *\n",
    "- ^\tRepresents any character not in the brackets *\n",
    "- \\-\tRepresents any single character within the specified range *\n",
    "- {}\tRepresents any escaped character **"
   ]
  },
  {
   "cell_type": "code",
   "execution_count": null,
   "metadata": {},
   "outputs": [],
   "source": [
    "# insert one record using dict method\n",
    "command = \"\"\"INSERT INTO students (first_name, last_name,age,id) VALUES(:fname,:lname,:age,:id)\"\"\"\n",
    "params = {'fname':'Von', 'lname':'Neumann','age':60,'id':12}\n",
    "con.execute(command,params)\n",
    "con.execute('SELECT * FROM students').fetchall()"
   ]
  },
  {
   "cell_type": "code",
   "execution_count": null,
   "metadata": {},
   "outputs": [],
   "source": [
    "with sqlite3.connect(DB_FILE) as con:\n",
    "    df=pd.read_sql('SELECT * FROM students', con)\n",
    " "
   ]
  },
  {
   "cell_type": "code",
   "execution_count": null,
   "metadata": {},
   "outputs": [],
   "source": [
    "df.head()"
   ]
  },
  {
   "cell_type": "code",
   "execution_count": 120,
   "metadata": {},
   "outputs": [],
   "source": [
    "def create_sql(columns):\n",
    "    sql_statement = ''\n",
    "    cols = ''\n",
    "    for column in columns:\n",
    "        sql_statement+= f'''{column[1]} {column[2]} {'NOT NULL' if column[3]==1 else ''} {'DEFAULT ' + str(column[4]) if column[4] else '' } {'PRIMARY KEY' if column[4] else ''},'''\n",
    "        cols+=f'{column[1]},'\n",
    "    return cols.strip(','),sql_statement.strip(',')"
   ]
  },
  {
   "cell_type": "code",
   "execution_count": 28,
   "metadata": {},
   "outputs": [],
   "source": [
    "def check_and_add_id_column(tablename, DB_FILE):\n",
    "    # Connect to the database\n",
    "    conn = sqlite3.connect(DB_FILE)\n",
    "    cursor = conn.cursor()\n",
    "\n",
    "    # Check if 'id' column exists\n",
    "    cursor.execute(f\"PRAGMA table_info({tablename});\")\n",
    "    columns = cursor.fetchall()\n",
    "    id_column_info = next((column for column in columns if column[1] == 'id'), None)\n",
    "\n",
    "    if id_column_info:\n",
    "        # 'id' column exists\n",
    "        id_column_index = id_column_info[0]\n",
    "        is_primary_key = id_column_info[5] == 1\n",
    "\n",
    "        if not is_primary_key:\n",
    "            # 'id' column exists but is not a primary key, change it to a primary key\n",
    "            cursor.execute(f\"CREATE TEMPORARY TABLE temp_table AS SELECT * FROM {tablename};\")\n",
    "            cursor.execute(f\"DROP TABLE {tablename};\")\n",
    "            cols,commands = create_sql(columns)\n",
    "            cursor.execute(f\"CREATE TABLE {tablename} (id INTEGER PRIMARY KEY, {commands} );\")\n",
    "            cursor.execute(f\"INSERT INTO {tablename} ({cols})SELECT {cols} FROM temp_table;\")\n",
    "            cursor.execute(\"DROP TABLE temp_table;\")\n",
    "            conn.commit()\n",
    "\n",
    "    else:\n",
    "        # 'id' column does not exist, add it\n",
    "        cursor.execute(\"ALTER TABLE {tablename} ADD COLUMN id INTEGER PRIMARY KEY;\")\n",
    "        cursor.execute(\"UPDATE {tablename} SET id = rowid;\")\n",
    "\n",
    "    # Commit changes and close connection\n",
    "    conn.commit()\n",
    "    conn.close()"
   ]
  },
  {
   "cell_type": "code",
   "execution_count": 31,
   "metadata": {},
   "outputs": [],
   "source": [
    "conn = sqlite3.connect(DB_FILE)"
   ]
  },
  {
   "cell_type": "code",
   "execution_count": 32,
   "metadata": {},
   "outputs": [],
   "source": [
    "cursor = conn.cursor()\n",
    "\n",
    "# Check if 'id' column exists\n",
    "cursor.execute(f\"PRAGMA table_info(student);\")\n",
    "columns = cursor.fetchall()\n"
   ]
  },
  {
   "cell_type": "code",
   "execution_count": 33,
   "metadata": {},
   "outputs": [
    {
     "data": {
      "text/plain": [
       "[(0, 'first_name', 'TEXT', 1, None, 0),\n",
       " (1, 'last_name', 'TEXT', 1, None, 0),\n",
       " (2, 'age', 'INT', 1, None, 0),\n",
       " (3, 'id', 'INT', 0, None, 1)]"
      ]
     },
     "execution_count": 33,
     "metadata": {},
     "output_type": "execute_result"
    }
   ],
   "source": [
    "columns"
   ]
  },
  {
   "cell_type": "code",
   "execution_count": 40,
   "metadata": {},
   "outputs": [
    {
     "data": {
      "text/plain": [
       "(3, 'id', 'INT', 0, None, 1)"
      ]
     },
     "execution_count": 40,
     "metadata": {},
     "output_type": "execute_result"
    }
   ],
   "source": [
    "id_column_info = next((column for column in columns if column[1] == 'id'), None)\n",
    "id_column_info"
   ]
  },
  {
   "cell_type": "code",
   "execution_count": 41,
   "metadata": {},
   "outputs": [
    {
     "data": {
      "text/plain": [
       "1"
      ]
     },
     "execution_count": 41,
     "metadata": {},
     "output_type": "execute_result"
    }
   ],
   "source": [
    "id_column_info[5]"
   ]
  },
  {
   "cell_type": "code",
   "execution_count": 102,
   "metadata": {},
   "outputs": [],
   "source": [
    "con.close()"
   ]
  },
  {
   "cell_type": "code",
   "execution_count": 111,
   "metadata": {},
   "outputs": [],
   "source": [
    "conn.close()"
   ]
  },
  {
   "cell_type": "code",
   "execution_count": 112,
   "metadata": {},
   "outputs": [],
   "source": [
    "conn = sqlite3.connect('inventory_db.db')"
   ]
  },
  {
   "cell_type": "code",
   "execution_count": 113,
   "metadata": {},
   "outputs": [
    {
     "data": {
      "text/plain": [
       "[(0, 'category', 'TEXT', 1, None, 0),\n",
       " (1, 'product_description', 'TEXT', 1, None, 0),\n",
       " (2, 'price', 'FLOAT', 1, None, 0),\n",
       " (3, 'code', 'TEXT', 1, None, 0)]"
      ]
     },
     "execution_count": 113,
     "metadata": {},
     "output_type": "execute_result"
    }
   ],
   "source": [
    "cursor = conn.cursor()\n",
    "# Check if 'id' column exists\n",
    "cursor.execute(f\"PRAGMA table_info(inventory);\")\n",
    "columns = cursor.fetchall()\n",
    "columns"
   ]
  },
  {
   "cell_type": "code",
   "execution_count": 114,
   "metadata": {},
   "outputs": [],
   "source": [
    "id_column_info = next((column for column in columns if column[1] == 'id'), None)\n",
    "id_column_info"
   ]
  },
  {
   "cell_type": "code",
   "execution_count": 115,
   "metadata": {},
   "outputs": [],
   "source": [
    "def create_sql(columns):\n",
    "    sql_statement = ''\n",
    "    cols = ''\n",
    "    for column in columns:\n",
    "        sql_statement+= f'''{column[1]} {column[2]} {'NOT NULL' if column[3]==1 else ''} {'DEFAULT ' + str(column[4]) if column[4] else '' } {'PRIMARY KEY' if column[4] else ''},'''\n",
    "        cols+=f'{column[1]},'\n",
    "    return cols.strip(','),sql_statement.strip(',')"
   ]
  },
  {
   "cell_type": "code",
   "execution_count": 118,
   "metadata": {},
   "outputs": [],
   "source": [
    "tablename = 'inventory'\n",
    "cursor.execute(f\"CREATE TEMPORARY TABLE temp_table AS SELECT * FROM {tablename};\")\n",
    "cursor.execute(f\"DROP TABLE {tablename};\")\n",
    "cols,commands = create_sql(columns)\n",
    "cursor.execute(f\"CREATE TABLE {tablename} (id INTEGER PRIMARY KEY, {commands} );\")\n",
    "cursor.execute(f\"INSERT INTO {tablename} ({cols})SELECT {cols} FROM temp_table;\")\n",
    "cursor.execute(\"DROP TABLE temp_table;\")\n",
    "conn.commit()"
   ]
  },
  {
   "cell_type": "code",
   "execution_count": 119,
   "metadata": {},
   "outputs": [
    {
     "data": {
      "text/html": [
       "<div>\n",
       "<style scoped>\n",
       "    .dataframe tbody tr th:only-of-type {\n",
       "        vertical-align: middle;\n",
       "    }\n",
       "\n",
       "    .dataframe tbody tr th {\n",
       "        vertical-align: top;\n",
       "    }\n",
       "\n",
       "    .dataframe thead th {\n",
       "        text-align: right;\n",
       "    }\n",
       "</style>\n",
       "<table border=\"1\" class=\"dataframe\">\n",
       "  <thead>\n",
       "    <tr style=\"text-align: right;\">\n",
       "      <th></th>\n",
       "      <th>id</th>\n",
       "      <th>category</th>\n",
       "      <th>product_description</th>\n",
       "      <th>price</th>\n",
       "      <th>code</th>\n",
       "    </tr>\n",
       "  </thead>\n",
       "  <tbody>\n",
       "    <tr>\n",
       "      <th>0</th>\n",
       "      <td>1</td>\n",
       "      <td>Electronics</td>\n",
       "      <td>ieee</td>\n",
       "      <td>54.0</td>\n",
       "      <td>B01</td>\n",
       "    </tr>\n",
       "    <tr>\n",
       "      <th>1</th>\n",
       "      <td>2</td>\n",
       "      <td>Books</td>\n",
       "      <td>The Art of Electronics</td>\n",
       "      <td>213.0</td>\n",
       "      <td>B01</td>\n",
       "    </tr>\n",
       "    <tr>\n",
       "      <th>2</th>\n",
       "      <td>3</td>\n",
       "      <td>Boks</td>\n",
       "      <td>The Grumpy Mountain Man</td>\n",
       "      <td>2222222.0</td>\n",
       "      <td>b00</td>\n",
       "    </tr>\n",
       "  </tbody>\n",
       "</table>\n",
       "</div>"
      ],
      "text/plain": [
       "   id     category      product_description      price code\n",
       "0   1  Electronics                     ieee       54.0  B01\n",
       "1   2        Books   The Art of Electronics      213.0  B01\n",
       "2   3         Boks  The Grumpy Mountain Man  2222222.0  b00"
      ]
     },
     "metadata": {},
     "output_type": "display_data"
    }
   ],
   "source": [
    "df = pd.read_sql(\"SELECT * FROM inventory \",conn)\n",
    "display(df)"
   ]
  },
  {
   "cell_type": "code",
   "execution_count": 98,
   "metadata": {},
   "outputs": [
    {
     "name": "stdout",
     "output_type": "stream",
     "text": [
      "CREATE TABLE inventory (id INTEGER PRIMARY KEY,category TEXT NOT NULL  ,product_description TEXT NOT NULL  ,price FLOAT NOT NULL  ,code TEXT NOT NULL   );\n",
      "category,product_description,price,code\n"
     ]
    }
   ],
   "source": [
    "cols, commands = create_sql(columns)\n",
    "print(f\"CREATE TABLE {tablename} (id INTEGER PRIMARY KEY,{commands} );\")\n",
    "print(cols)"
   ]
  },
  {
   "cell_type": "code",
   "execution_count": 93,
   "metadata": {},
   "outputs": [
    {
     "data": {
      "text/plain": [
       "'category TEXT NOT NULL  ,product_description TEXT NOT NULL  ,price FLOAT NOT NULL  ,code TEXT NOT NULL  ,'"
      ]
     },
     "execution_count": 93,
     "metadata": {},
     "output_type": "execute_result"
    }
   ],
   "source": [
    "commands"
   ]
  },
  {
   "cell_type": "code",
   "execution_count": 94,
   "metadata": {},
   "outputs": [
    {
     "data": {
      "text/plain": [
       "[(0, 'category', 'TEXT', 1, None, 0),\n",
       " (1, 'product_description', 'TEXT', 1, None, 0),\n",
       " (2, 'price', 'FLOAT', 1, None, 0),\n",
       " (3, 'code', 'TEXT', 1, None, 0)]"
      ]
     },
     "execution_count": 94,
     "metadata": {},
     "output_type": "execute_result"
    }
   ],
   "source": [
    "cols"
   ]
  },
  {
   "cell_type": "code",
   "execution_count": 86,
   "metadata": {},
   "outputs": [
    {
     "data": {
      "text/plain": [
       "[(0, 'category', 'TEXT', 1, None, 0),\n",
       " (1, 'product_description', 'TEXT', 1, None, 0),\n",
       " (2, 'price', 'FLOAT', 1, None, 0),\n",
       " (3, 'code', 'TEXT', 1, None, 0)]"
      ]
     },
     "execution_count": 86,
     "metadata": {},
     "output_type": "execute_result"
    }
   ],
   "source": [
    "columns"
   ]
  },
  {
   "cell_type": "code",
   "execution_count": 54,
   "metadata": {},
   "outputs": [
    {
     "data": {
      "text/plain": [
       "'category TEXT NOT NULL'"
      ]
     },
     "execution_count": 54,
     "metadata": {},
     "output_type": "execute_result"
    }
   ],
   "source": [
    "f\"{columns[0][1]} {columns[0][2]} {'NOT NULL' if columns[0][3]==1 else ''}\""
   ]
  },
  {
   "cell_type": "code",
   "execution_count": 57,
   "metadata": {},
   "outputs": [
    {
     "data": {
      "text/plain": [
       "'category TEXT NOT NULL  ;product_description TEXT NOT NULL  ;price FLOAT NOT NULL  ;code TEXT NOT NULL  ;'"
      ]
     },
     "execution_count": 57,
     "metadata": {},
     "output_type": "execute_result"
    }
   ],
   "source": [
    "create_sql(columns)"
   ]
  },
  {
   "cell_type": "code",
   "execution_count": 29,
   "metadata": {},
   "outputs": [
    {
     "data": {
      "text/html": [
       "<div>\n",
       "<style scoped>\n",
       "    .dataframe tbody tr th:only-of-type {\n",
       "        vertical-align: middle;\n",
       "    }\n",
       "\n",
       "    .dataframe tbody tr th {\n",
       "        vertical-align: top;\n",
       "    }\n",
       "\n",
       "    .dataframe thead th {\n",
       "        text-align: right;\n",
       "    }\n",
       "</style>\n",
       "<table border=\"1\" class=\"dataframe\">\n",
       "  <thead>\n",
       "    <tr style=\"text-align: right;\">\n",
       "      <th></th>\n",
       "      <th>first_name</th>\n",
       "      <th>last_name</th>\n",
       "      <th>age</th>\n",
       "      <th>id</th>\n",
       "    </tr>\n",
       "  </thead>\n",
       "  <tbody>\n",
       "    <tr>\n",
       "      <th>0</th>\n",
       "      <td>Andrew</td>\n",
       "      <td>Rukangu</td>\n",
       "      <td>50</td>\n",
       "      <td>5</td>\n",
       "    </tr>\n",
       "    <tr>\n",
       "      <th>1</th>\n",
       "      <td>Marie</td>\n",
       "      <td>Curie</td>\n",
       "      <td>100</td>\n",
       "      <td>6</td>\n",
       "    </tr>\n",
       "    <tr>\n",
       "      <th>2</th>\n",
       "      <td>Tom</td>\n",
       "      <td>Jerry</td>\n",
       "      <td>60</td>\n",
       "      <td>8</td>\n",
       "    </tr>\n",
       "    <tr>\n",
       "      <th>3</th>\n",
       "      <td>Albert</td>\n",
       "      <td>Einstein</td>\n",
       "      <td>100</td>\n",
       "      <td>9</td>\n",
       "    </tr>\n",
       "  </tbody>\n",
       "</table>\n",
       "</div>"
      ],
      "text/plain": [
       "  first_name last_name  age  id\n",
       "0     Andrew   Rukangu   50   5\n",
       "1      Marie     Curie  100   6\n",
       "2        Tom     Jerry   60   8\n",
       "3     Albert  Einstein  100   9"
      ]
     },
     "metadata": {},
     "output_type": "display_data"
    }
   ],
   "source": [
    "with sqlite3.connect(DB_FILE) as con:\n",
    "    df = pd.read_sql(\"SELECT * FROM student \",con)\n",
    "    display(df)"
   ]
  },
  {
   "cell_type": "code",
   "execution_count": 30,
   "metadata": {},
   "outputs": [
    {
     "data": {
      "text/html": [
       "<div>\n",
       "<style scoped>\n",
       "    .dataframe tbody tr th:only-of-type {\n",
       "        vertical-align: middle;\n",
       "    }\n",
       "\n",
       "    .dataframe tbody tr th {\n",
       "        vertical-align: top;\n",
       "    }\n",
       "\n",
       "    .dataframe thead th {\n",
       "        text-align: right;\n",
       "    }\n",
       "</style>\n",
       "<table border=\"1\" class=\"dataframe\">\n",
       "  <thead>\n",
       "    <tr style=\"text-align: right;\">\n",
       "      <th></th>\n",
       "      <th>first_name</th>\n",
       "      <th>last_name</th>\n",
       "      <th>age</th>\n",
       "      <th>id</th>\n",
       "    </tr>\n",
       "  </thead>\n",
       "  <tbody>\n",
       "    <tr>\n",
       "      <th>0</th>\n",
       "      <td>Andrew</td>\n",
       "      <td>Rukangu</td>\n",
       "      <td>50</td>\n",
       "      <td>5</td>\n",
       "    </tr>\n",
       "    <tr>\n",
       "      <th>1</th>\n",
       "      <td>Marie</td>\n",
       "      <td>Curie</td>\n",
       "      <td>100</td>\n",
       "      <td>6</td>\n",
       "    </tr>\n",
       "    <tr>\n",
       "      <th>2</th>\n",
       "      <td>Tom</td>\n",
       "      <td>Jerry</td>\n",
       "      <td>60</td>\n",
       "      <td>8</td>\n",
       "    </tr>\n",
       "    <tr>\n",
       "      <th>3</th>\n",
       "      <td>Albert</td>\n",
       "      <td>Einstein</td>\n",
       "      <td>100</td>\n",
       "      <td>9</td>\n",
       "    </tr>\n",
       "  </tbody>\n",
       "</table>\n",
       "</div>"
      ],
      "text/plain": [
       "  first_name last_name  age  id\n",
       "0     Andrew   Rukangu   50   5\n",
       "1      Marie     Curie  100   6\n",
       "2        Tom     Jerry   60   8\n",
       "3     Albert  Einstein  100   9"
      ]
     },
     "metadata": {},
     "output_type": "display_data"
    }
   ],
   "source": [
    "check_and_add_id_column()\n",
    "with sqlite3.connect(DB_FILE) as con:\n",
    "    df = pd.read_sql(\"SELECT * FROM student \",con)\n",
    "    display(df)"
   ]
  },
  {
   "cell_type": "code",
   "execution_count": null,
   "metadata": {},
   "outputs": [],
   "source": []
  }
 ],
 "metadata": {
  "kernelspec": {
   "display_name": "info2000",
   "language": "python",
   "name": "python3"
  },
  "language_info": {
   "codemirror_mode": {
    "name": "ipython",
    "version": 3
   },
   "file_extension": ".py",
   "mimetype": "text/x-python",
   "name": "python",
   "nbconvert_exporter": "python",
   "pygments_lexer": "ipython3",
   "version": "3.9.16"
  }
 },
 "nbformat": 4,
 "nbformat_minor": 2
}
