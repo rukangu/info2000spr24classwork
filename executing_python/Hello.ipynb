{
 "cells": [
  {
   "cell_type": "code",
   "execution_count": 1,
   "id": "b306fa21-4a8c-4212-9a8d-5a5c5577a2f9",
   "metadata": {},
   "outputs": [
    {
     "name": "stdout",
     "output_type": "stream",
     "text": [
      "Hello world!\n"
     ]
    }
   ],
   "source": [
    "print(\"Hello world!\")"
   ]
  },
  {
   "cell_type": "code",
   "execution_count": 2,
   "id": "01aa0bf3-5bb8-4e87-b156-bc98c06650df",
   "metadata": {},
   "outputs": [],
   "source": [
    "a = 2\n",
    "b  = 4"
   ]
  },
  {
   "cell_type": "code",
   "execution_count": 3,
   "id": "4ce75bf0-c742-44f4-8d83-3ea63a58d5ca",
   "metadata": {},
   "outputs": [
    {
     "name": "stdout",
     "output_type": "stream",
     "text": [
      "6\n"
     ]
    }
   ],
   "source": [
    "print(a+b)"
   ]
  },
  {
   "cell_type": "code",
   "execution_count": 4,
   "id": "d5cf8a59-84da-47e7-a624-e17ac8693d67",
   "metadata": {},
   "outputs": [
    {
     "name": "stdout",
     "output_type": "stream",
     "text": [
      "Hello world from Athens!\n"
     ]
    }
   ],
   "source": [
    "print(\"Hello\",\"world\",\"from\",\"Athens!\")"
   ]
  },
  {
   "cell_type": "code",
   "execution_count": 7,
   "id": "06bef0ad-c443-419c-91c6-efeef851c306",
   "metadata": {},
   "outputs": [
    {
     "name": "stdout",
     "output_type": "stream",
     "text": [
      "Hello\n",
      "world\n",
      "from\n",
      "Athens!\n"
     ]
    }
   ],
   "source": [
    "print(\"Hello\",\"world\",\"from\",\"Athens!\", sep = \"\\n\")"
   ]
  },
  {
   "cell_type": "code",
   "execution_count": 9,
   "id": "8830fdc7-cb62-4430-856b-2900acee3061",
   "metadata": {},
   "outputs": [
    {
     "name": "stdout",
     "output_type": "stream",
     "text": [
      "Hello#World\n"
     ]
    }
   ],
   "source": [
    "print(\"Hello\", end=\"#\")\n",
    "print(\"World\")\n"
   ]
  },
  {
   "cell_type": "code",
   "execution_count": 19,
   "id": "5e56c815-c945-4ecf-9c0c-b8e2b19196b6",
   "metadata": {},
   "outputs": [
    {
     "name": "stdin",
     "output_type": "stream",
     "text": [
      "Enter your name        Andrew     \n"
     ]
    },
    {
     "name": "stdout",
     "output_type": "stream",
     "text": [
      "Hello        Andrew      !\n"
     ]
    }
   ],
   "source": [
    "name = input(\"Enter your name\")\n",
    "print(\"Hello\",name, \"!\")"
   ]
  },
  {
   "cell_type": "code",
   "execution_count": 11,
   "id": "d3f8818f-08c5-4204-8e32-df11fc3c5264",
   "metadata": {},
   "outputs": [
    {
     "name": "stdout",
     "output_type": "stream",
     "text": [
      "Andrew\n"
     ]
    }
   ],
   "source": [
    "print (name)"
   ]
  },
  {
   "cell_type": "code",
   "execution_count": 16,
   "id": "c570d05f-93ca-4477-ba55-98e96c1626d6",
   "metadata": {},
   "outputs": [
    {
     "data": {
      "text/plain": [
       "str"
      ]
     },
     "execution_count": 16,
     "metadata": {},
     "output_type": "execute_result"
    }
   ],
   "source": [
    "type(name)"
   ]
  },
  {
   "cell_type": "code",
   "execution_count": 17,
   "id": "8c2b5946-ee2b-4b77-85e4-b67da3014582",
   "metadata": {},
   "outputs": [
    {
     "data": {
      "text/plain": [
       "6"
      ]
     },
     "execution_count": 17,
     "metadata": {},
     "output_type": "execute_result"
    }
   ],
   "source": [
    "len(name)\n"
   ]
  },
  {
   "cell_type": "code",
   "execution_count": 18,
   "id": "52189f6b-3224-4378-b8f9-4b2b215547db",
   "metadata": {},
   "outputs": [
    {
     "data": {
      "text/plain": [
       "'ANDREW'"
      ]
     },
     "execution_count": 18,
     "metadata": {},
     "output_type": "execute_result"
    }
   ],
   "source": [
    "name.upper()"
   ]
  },
  {
   "cell_type": "code",
   "execution_count": 20,
   "id": "a4fe1774-41cf-40c9-991b-347d8db2f75b",
   "metadata": {},
   "outputs": [],
   "source": [
    "name2  = name.strip()"
   ]
  },
  {
   "cell_type": "code",
   "execution_count": 21,
   "id": "abc90a6f-e3c1-4918-a39a-4636602c587b",
   "metadata": {},
   "outputs": [
    {
     "data": {
      "text/plain": [
       "'Andrew'"
      ]
     },
     "execution_count": 21,
     "metadata": {},
     "output_type": "execute_result"
    }
   ],
   "source": [
    "name2"
   ]
  },
  {
   "cell_type": "code",
   "execution_count": 22,
   "id": "4bd4ce88-ce10-4044-bca6-e2df9e5b4b12",
   "metadata": {},
   "outputs": [
    {
     "data": {
      "text/plain": [
       "['Andrew']"
      ]
     },
     "execution_count": 22,
     "metadata": {},
     "output_type": "execute_result"
    }
   ],
   "source": [
    "name.split()"
   ]
  },
  {
   "cell_type": "code",
   "execution_count": null,
   "id": "5f1411d2-ee9f-433a-8c0e-2b5693459025",
   "metadata": {},
   "outputs": [],
   "source": []
  }
 ],
 "metadata": {
  "kernelspec": {
   "display_name": "info2000",
   "language": "python",
   "name": "info2000"
  },
  "language_info": {
   "codemirror_mode": {
    "name": "ipython",
    "version": 3
   },
   "file_extension": ".py",
   "mimetype": "text/x-python",
   "name": "python",
   "nbconvert_exporter": "python",
   "pygments_lexer": "ipython3",
   "version": "3.9.18"
  }
 },
 "nbformat": 4,
 "nbformat_minor": 5
}
